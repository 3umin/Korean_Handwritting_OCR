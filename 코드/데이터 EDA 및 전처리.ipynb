{
 "cells": [
  {
   "cell_type": "markdown",
   "id": "b3620062",
   "metadata": {},
   "source": [
    "## 데이터 로드"
   ]
  },
  {
   "cell_type": "code",
   "execution_count": 11,
   "id": "008a05ff",
   "metadata": {},
   "outputs": [],
   "source": [
    "import pandas as pd\n",
    "\n",
    "train = pd.read_csv(',/data/train.csv')\n",
    "test = pd.read_csv('./data/test.csv')"
   ]
  },
  {
   "cell_type": "code",
   "execution_count": 13,
   "id": "257a1952",
   "metadata": {},
   "outputs": [
    {
     "data": {
      "text/plain": [
       "76888"
      ]
     },
     "execution_count": 13,
     "metadata": {},
     "output_type": "execute_result"
    }
   ],
   "source": [
    "train.shape[0]"
   ]
  },
  {
   "cell_type": "code",
   "execution_count": 14,
   "id": "23f869cd",
   "metadata": {},
   "outputs": [
    {
     "data": {
      "text/plain": [
       "74121"
      ]
     },
     "execution_count": 14,
     "metadata": {},
     "output_type": "execute_result"
    }
   ],
   "source": [
    "test.shape[0]"
   ]
  },
  {
   "cell_type": "markdown",
   "id": "6ebf169d",
   "metadata": {},
   "source": [
    "## 글자수 분포"
   ]
  },
  {
   "cell_type": "code",
   "execution_count": 18,
   "id": "dd51bcd9",
   "metadata": {},
   "outputs": [
    {
     "data": {
      "text/html": [
       "<div>\n",
       "<style scoped>\n",
       "    .dataframe tbody tr th:only-of-type {\n",
       "        vertical-align: middle;\n",
       "    }\n",
       "\n",
       "    .dataframe tbody tr th {\n",
       "        vertical-align: top;\n",
       "    }\n",
       "\n",
       "    .dataframe thead th {\n",
       "        text-align: right;\n",
       "    }\n",
       "</style>\n",
       "<table border=\"1\" class=\"dataframe\">\n",
       "  <thead>\n",
       "    <tr style=\"text-align: right;\">\n",
       "      <th></th>\n",
       "      <th>id</th>\n",
       "      <th>img_path</th>\n",
       "      <th>label</th>\n",
       "      <th>len</th>\n",
       "    </tr>\n",
       "  </thead>\n",
       "  <tbody>\n",
       "    <tr>\n",
       "      <th>0</th>\n",
       "      <td>TRAIN_00000</td>\n",
       "      <td>./train/TRAIN_00000.png</td>\n",
       "      <td>빨간색</td>\n",
       "      <td>3</td>\n",
       "    </tr>\n",
       "    <tr>\n",
       "      <th>1</th>\n",
       "      <td>TRAIN_00001</td>\n",
       "      <td>./train/TRAIN_00001.png</td>\n",
       "      <td>머</td>\n",
       "      <td>1</td>\n",
       "    </tr>\n",
       "    <tr>\n",
       "      <th>2</th>\n",
       "      <td>TRAIN_00002</td>\n",
       "      <td>./train/TRAIN_00002.png</td>\n",
       "      <td>차차</td>\n",
       "      <td>2</td>\n",
       "    </tr>\n",
       "    <tr>\n",
       "      <th>3</th>\n",
       "      <td>TRAIN_00003</td>\n",
       "      <td>./train/TRAIN_00003.png</td>\n",
       "      <td>써</td>\n",
       "      <td>1</td>\n",
       "    </tr>\n",
       "    <tr>\n",
       "      <th>4</th>\n",
       "      <td>TRAIN_00004</td>\n",
       "      <td>./train/TRAIN_00004.png</td>\n",
       "      <td>놓치다</td>\n",
       "      <td>3</td>\n",
       "    </tr>\n",
       "    <tr>\n",
       "      <th>...</th>\n",
       "      <td>...</td>\n",
       "      <td>...</td>\n",
       "      <td>...</td>\n",
       "      <td>...</td>\n",
       "    </tr>\n",
       "    <tr>\n",
       "      <th>76883</th>\n",
       "      <td>TRAIN_76883</td>\n",
       "      <td>./train/TRAIN_76883.png</td>\n",
       "      <td>회</td>\n",
       "      <td>1</td>\n",
       "    </tr>\n",
       "    <tr>\n",
       "      <th>76884</th>\n",
       "      <td>TRAIN_76884</td>\n",
       "      <td>./train/TRAIN_76884.png</td>\n",
       "      <td>겪다</td>\n",
       "      <td>2</td>\n",
       "    </tr>\n",
       "    <tr>\n",
       "      <th>76885</th>\n",
       "      <td>TRAIN_76885</td>\n",
       "      <td>./train/TRAIN_76885.png</td>\n",
       "      <td>벨트</td>\n",
       "      <td>2</td>\n",
       "    </tr>\n",
       "    <tr>\n",
       "      <th>76886</th>\n",
       "      <td>TRAIN_76886</td>\n",
       "      <td>./train/TRAIN_76886.png</td>\n",
       "      <td>톼</td>\n",
       "      <td>1</td>\n",
       "    </tr>\n",
       "    <tr>\n",
       "      <th>76887</th>\n",
       "      <td>TRAIN_76887</td>\n",
       "      <td>./train/TRAIN_76887.png</td>\n",
       "      <td>자리</td>\n",
       "      <td>2</td>\n",
       "    </tr>\n",
       "  </tbody>\n",
       "</table>\n",
       "<p>76888 rows × 4 columns</p>\n",
       "</div>"
      ],
      "text/plain": [
       "                id                 img_path label  len\n",
       "0      TRAIN_00000  ./train/TRAIN_00000.png   빨간색    3\n",
       "1      TRAIN_00001  ./train/TRAIN_00001.png     머    1\n",
       "2      TRAIN_00002  ./train/TRAIN_00002.png    차차    2\n",
       "3      TRAIN_00003  ./train/TRAIN_00003.png     써    1\n",
       "4      TRAIN_00004  ./train/TRAIN_00004.png   놓치다    3\n",
       "...            ...                      ...   ...  ...\n",
       "76883  TRAIN_76883  ./train/TRAIN_76883.png     회    1\n",
       "76884  TRAIN_76884  ./train/TRAIN_76884.png    겪다    2\n",
       "76885  TRAIN_76885  ./train/TRAIN_76885.png    벨트    2\n",
       "76886  TRAIN_76886  ./train/TRAIN_76886.png     톼    1\n",
       "76887  TRAIN_76887  ./train/TRAIN_76887.png    자리    2\n",
       "\n",
       "[76888 rows x 4 columns]"
      ]
     },
     "execution_count": 18,
     "metadata": {},
     "output_type": "execute_result"
    }
   ],
   "source": [
    "# 글자수 컬럼 생성\n",
    "\n",
    "train['len'] = train['label'].str.len()\n",
    "train"
   ]
  },
  {
   "cell_type": "code",
   "execution_count": 19,
   "id": "1ad8df24",
   "metadata": {},
   "outputs": [
    {
     "data": {
      "text/html": [
       "<div>\n",
       "<style scoped>\n",
       "    .dataframe tbody tr th:only-of-type {\n",
       "        vertical-align: middle;\n",
       "    }\n",
       "\n",
       "    .dataframe tbody tr th {\n",
       "        vertical-align: top;\n",
       "    }\n",
       "\n",
       "    .dataframe thead th {\n",
       "        text-align: right;\n",
       "    }\n",
       "</style>\n",
       "<table border=\"1\" class=\"dataframe\">\n",
       "  <thead>\n",
       "    <tr style=\"text-align: right;\">\n",
       "      <th></th>\n",
       "      <th>len</th>\n",
       "      <th>len_count</th>\n",
       "    </tr>\n",
       "  </thead>\n",
       "  <tbody>\n",
       "    <tr>\n",
       "      <th>0</th>\n",
       "      <td>2</td>\n",
       "      <td>28631</td>\n",
       "    </tr>\n",
       "    <tr>\n",
       "      <th>1</th>\n",
       "      <td>1</td>\n",
       "      <td>23703</td>\n",
       "    </tr>\n",
       "    <tr>\n",
       "      <th>2</th>\n",
       "      <td>3</td>\n",
       "      <td>13514</td>\n",
       "    </tr>\n",
       "    <tr>\n",
       "      <th>3</th>\n",
       "      <td>4</td>\n",
       "      <td>9988</td>\n",
       "    </tr>\n",
       "    <tr>\n",
       "      <th>4</th>\n",
       "      <td>5</td>\n",
       "      <td>1026</td>\n",
       "    </tr>\n",
       "    <tr>\n",
       "      <th>5</th>\n",
       "      <td>6</td>\n",
       "      <td>26</td>\n",
       "    </tr>\n",
       "  </tbody>\n",
       "</table>\n",
       "</div>"
      ],
      "text/plain": [
       "   len  len_count\n",
       "0    2      28631\n",
       "1    1      23703\n",
       "2    3      13514\n",
       "3    4       9988\n",
       "4    5       1026\n",
       "5    6         26"
      ]
     },
     "metadata": {},
     "output_type": "display_data"
    }
   ],
   "source": [
    "train_len_count = pd.DataFrame(train['len'].value_counts())\n",
    "train_len_count = train_len_count.reset_index()\n",
    "train_len_count.columns = ['len', 'len_count']\n",
    "\n",
    "display(train_len_count)"
   ]
  },
  {
   "cell_type": "code",
   "execution_count": 22,
   "id": "8310f680",
   "metadata": {},
   "outputs": [
    {
     "data": {
      "image/png": "[encoded data removed]",
      "text/plain": [
       "<Figure size 432x288 with 1 Axes>"
      ]
     },
     "metadata": {
      "needs_background": "light"
     },
     "output_type": "display_data"
    }
   ],
   "source": [
    "# 개수별 분포도\n",
    "\n",
    "import seaborn as sns\n",
    "\n",
    "sns.barplot(data=train_len_count, x='len', y='len_count');"
   ]
  },
  {
   "cell_type": "code",
   "execution_count": 36,
   "id": "c48d92e7",
   "metadata": {},
   "outputs": [],
   "source": [
    "import random\n",
    "import pandas as pd\n",
    "import numpy as np\n",
    "import os\n",
    "\n",
    "from PIL import Image\n",
    "import matplotlib.pyplot as plt\n",
    "plt.rc('font', family='Malgun Gothic') \n",
    "import seaborn as sns\n",
    "\n",
    "import cv2 as cv\n",
    "\n",
    "from tqdm.auto import tqdm\n",
    "\n",
    "import warnings\n",
    "warnings.filterwarnings(action='ignore') "
   ]
  },
  {
   "cell_type": "code",
   "execution_count": 34,
   "id": "9911e4cd",
   "metadata": {},
   "outputs": [],
   "source": [
    "from PIL import Image\n",
    "\n",
    "import torch\n",
    "import torch.nn as nn\n",
    "import torch.optim as optim\n",
    "import torch.nn.functional as F\n",
    "from torch.utils.data import Dataset, DataLoader\n",
    "\n",
    "from torchvision.models import resnet18\n",
    "from torchvision import transforms\n",
    "\n",
    "from tqdm.auto import tqdm\n",
    "from sklearn.metrics import accuracy_score\n",
    "from sklearn.model_selection import train_test_split"
   ]
  },
  {
   "cell_type": "code",
   "execution_count": 27,
   "id": "da614a3e",
   "metadata": {},
   "outputs": [],
   "source": [
    "def show_image(Image, Picture_Name):\n",
    "    plt.imshow(Image)\n",
    "    plt.title(Picture_Name)\n",
    "    plt.show()\n",
    "    \n",
    "def sample_df_by_len(df, n_sample, n_len, use_frac=False):\n",
    "  cond = (df['len']==n_len)\n",
    "  df = df.loc[cond]\n",
    "  if use_frac == True:\n",
    "    df = df.sample(frac=n_sample)\n",
    "  else:\n",
    "    df = df.sample(n=n_sample)\n",
    "  return df\n",
    "\n",
    "def show_sample_image(df, n_sample, n_len):\n",
    "  df = sample_df_by_len(df, n_sample, n_len)\n",
    "  for img, label in zip(df['img_path'], df['label']):\n",
    "    img = cv.imread(img)\n",
    "    show_image(img, label)"
   ]
  },
  {
   "cell_type": "markdown",
   "id": "be807d83",
   "metadata": {},
   "source": [
    "## 1글자 데이터"
   ]
  },
  {
   "cell_type": "code",
   "execution_count": 42,
   "id": "2f2bb566",
   "metadata": {},
   "outputs": [
    {
     "data": {
      "image/png": "[encoded data removed]",
      "text/plain": [
       "<Figure size 432x288 with 1 Axes>"
      ]
     },
     "metadata": {
      "needs_background": "light"
     },
     "output_type": "display_data"
    },
    {
     "data": {
      "image/png": "[encoded data removed]",
      "text/plain": [
       "<Figure size 432x288 with 1 Axes>"
      ]
     },
     "metadata": {
      "needs_background": "light"
     },
     "output_type": "display_data"
    },
    {
     "data": {
      "image/png": "[encoded data removed]",
      "text/plain": [
       "<Figure size 432x288 with 1 Axes>"
      ]
     },
     "metadata": {
      "needs_background": "light"
     },
     "output_type": "display_data"
    }
   ],
   "source": [
    "show_sample_image(df=train, n_sample=3, n_len=1)"
   ]
  },
  {
   "cell_type": "markdown",
   "id": "7fb8c9bd",
   "metadata": {},
   "source": [
    "## 2글자 데이터"
   ]
  },
  {
   "cell_type": "code",
   "execution_count": 44,
   "id": "5d281bd8",
   "metadata": {},
   "outputs": [
    {
     "data": {
      "image/png": "[encoded data removed]",
      "text/plain": [
       "<Figure size 432x288 with 1 Axes>"
      ]
     },
     "metadata": {
      "needs_background": "light"
     },
     "output_type": "display_data"
    },
    {
     "data": {
      "image/png": "[encoded data removed]",
      "text/plain": [
       "<Figure size 432x288 with 1 Axes>"
      ]
     },
     "metadata": {
      "needs_background": "light"
     },
     "output_type": "display_data"
    },
    {
     "data": {
      "image/png": "[encoded data removed]",
      "text/plain": [
       "<Figure size 432x288 with 1 Axes>"
      ]
     },
     "metadata": {
      "needs_background": "light"
     },
     "output_type": "display_data"
    }
   ],
   "source": [
    "show_sample_image(df=train, n_sample=3, n_len=2)"
   ]
  },
  {
   "cell_type": "markdown",
   "id": "99c0bd4a",
   "metadata": {},
   "source": [
    "## 3글자 데이터"
   ]
  },
  {
   "cell_type": "code",
   "execution_count": 46,
   "id": "4cee33a4",
   "metadata": {},
   "outputs": [
    {
     "data": {
      "image/png": "[encoded data removed]",
      "text/plain": [
       "<Figure size 432x288 with 1 Axes>"
      ]
     },
     "metadata": {
      "needs_background": "light"
     },
     "output_type": "display_data"
    },
    {
     "data": {
      "image/png": "[encoded data removed]",
      "text/plain": [
       "<Figure size 432x288 with 1 Axes>"
      ]
     },
     "metadata": {
      "needs_background": "light"
     },
     "output_type": "display_data"
    },
    {
     "data": {
      "image/png": "[encoded data removed]",
      "text/plain": [
       "<Figure size 432x288 with 1 Axes>"
      ]
     },
     "metadata": {
      "needs_background": "light"
     },
     "output_type": "display_data"
    }
   ],
   "source": [
    "show_sample_image(df=train, n_sample=3, n_len=3)"
   ]
  },
  {
   "cell_type": "markdown",
   "id": "1a7a5801",
   "metadata": {},
   "source": [
    "# DTRB 데이터셋 형식으로 변환"
   ]
  },
  {
   "cell_type": "code",
   "execution_count": 52,
   "id": "240897a9",
   "metadata": {},
   "outputs": [
    {
     "name": "stderr",
     "output_type": "stream",
     "text": [
      "Cloning into 'TRDG2DTRB'...\n"
     ]
    }
   ],
   "source": [
    "!git clone https://github.com/DaveLogs/TRDG2DTRB.git"
   ]
  },
  {
   "cell_type": "markdown",
   "id": "0449ae89",
   "metadata": {},
   "source": [
    "TRDG2DTRB 의 convert.py 파일을 실행시켜 데이터셋을 변환할 건데, convert.py 파일은 데이터가\n",
    "\n",
    "새우다_00001.png, 안녕_00002.png 처럼 되어있는 것을 가정하므로 파일명을 label_index.png 형식으로 변환"
   ]
  },
  {
   "cell_type": "code",
   "execution_count": 11,
   "id": "f3fb35bf",
   "metadata": {},
   "outputs": [
    {
     "name": "stderr",
     "output_type": "stream",
     "text": [
      "100%|██████████████████████████████████████████████████████████████████████████| 76888/76888 [00:04<00:00, 15657.60it/s]\n"
     ]
    }
   ],
   "source": [
    "from tqdm import tqdm\n",
    "\n",
    "for i in tqdm(range(train.shape[0])):\n",
    "    os.rename(train['img_path'][i], './train/' + train['label'][i] + train['img_path'][i][-10:])"
   ]
  },
  {
   "cell_type": "code",
   "execution_count": 13,
   "id": "0f4135ef",
   "metadata": {},
   "outputs": [
    {
     "data": {
      "text/plain": [
       "['머_00001.png',\n",
       " '차차_00002.png',\n",
       " '써_00003.png',\n",
       " '놓치다_00004.png',\n",
       " '유월_00006.png',\n",
       " '빈_00007.png',\n",
       " '손뼉_00008.png',\n",
       " '숫자_00009.png',\n",
       " '윷_00010.png',\n",
       " '동아리_00011.png',\n",
       " '썰다_00012.png',\n",
       " '인정되다_00013.png',\n",
       " '슬쩍_00014.png',\n",
       " '신설_00015.png',\n",
       " '과자_00016.png',\n",
       " '입맛_00017.png',\n",
       " '휴지통_00018.png',\n",
       " '나오다_00019.png',\n",
       " '선언하다_00020.png',\n",
       " '온통_00021.png',\n",
       " '앞뒤_00022.png',\n",
       " '멈추다_00023.png',\n",
       " '비롯하다_00024.png',\n",
       " '셋째_00025.png',\n",
       " '이빨_00026.png',\n",
       " '훵_00027.png',\n",
       " '치약_00028.png',\n",
       " '가하다_00029.png',\n",
       " '부서_00030.png',\n",
       " '시인_00031.png',\n",
       " '걱정스럽다_00032.png',\n",
       " '저_00033.png',\n",
       " '거꾸로_00034.png',\n",
       " '신비_00035.png',\n",
       " '절_00037.png',\n",
       " '수_00038.png',\n",
       " '괼_00039.png',\n",
       " '생일_00040.png',\n",
       " '교통_00041.png',\n",
       " '꾸리다_00042.png',\n",
       " '뀌_00043.png',\n",
       " '긴장_00044.png',\n",
       " '근무_00045.png',\n",
       " '본격적_00046.png',\n",
       " '개국_00047.png',\n",
       " '작아지다_00048.png',\n",
       " '한두_00049.png',\n",
       " '네_00050.png',\n",
       " '듬_00051.png',\n",
       " '괵_00052.png',\n",
       " '체계적_00053.png',\n",
       " '거대하다_00054.png',\n",
       " '속도_00055.png',\n",
       " '벌_00056.png',\n",
       " '나다_00057.png',\n",
       " '대강_00058.png',\n",
       " '놓아두다_00059.png',\n",
       " '령_00060.png',\n",
       " '흔_00061.png',\n",
       " '출장_00062.png',\n",
       " '외국어_00063.png',\n",
       " '왜_00064.png',\n",
       " '상추_00065.png',\n",
       " '됨_00066.png',\n",
       " '봇_00067.png',\n",
       " '중반_00068.png',\n",
       " '간장_00069.png',\n",
       " '선거_00070.png',\n",
       " '퓜_00071.png',\n",
       " '레몬_00072.png',\n",
       " '셰_00073.png',\n",
       " '이해_00074.png',\n",
       " '달_00075.png',\n",
       " '걱정스럽다_00076.png',\n",
       " '장갑_00077.png',\n",
       " '죕_00078.png',\n",
       " '과_00079.png',\n",
       " '중요_00080.png',\n",
       " '이_00081.png',\n",
       " '만큼_00082.png',\n",
       " '뇌_00083.png',\n",
       " '꼿_00085.png',\n",
       " '흔하다_00086.png',\n",
       " '느껴지다_00087.png',\n",
       " '과정_00088.png',\n",
       " '목숨_00089.png',\n",
       " '댜_00090.png',\n",
       " '뗌_00091.png',\n",
       " '질문하다_00092.png',\n",
       " '뢸_00093.png',\n",
       " '가상_00094.png',\n",
       " '예방하다_00095.png',\n",
       " '음식_00096.png',\n",
       " '쓰다_00097.png',\n",
       " '정신과_00098.png',\n",
       " '이력서_00099.png',\n",
       " '밤_00100.png',\n",
       " '우승_00101.png',\n",
       " '세_00102.png',\n",
       " '이따금_00103.png',\n",
       " '세대_00104.png',\n",
       " '귀_00105.png',\n",
       " '살다_00106.png',\n",
       " '즙_00107.png',\n",
       " '구입_00108.png',\n",
       " '추석_00109.png',\n",
       " '직후_00110.png',\n",
       " '남북_00111.png',\n",
       " '친절_00112.png',\n",
       " '안주_00113.png',\n",
       " '억_00114.png',\n",
       " '무덤_00115.png',\n",
       " '찾아보다_00116.png',\n",
       " '길이_00117.png',\n",
       " '달력_00118.png',\n",
       " '저기_00119.png',\n",
       " '깬_00120.png',\n",
       " '다섯째_00121.png',\n",
       " '예감_00122.png',\n",
       " '기초_00123.png',\n",
       " '졉_00124.png',\n",
       " '인삼차_00125.png',\n",
       " '항상_00126.png',\n",
       " '그림_00127.png',\n",
       " '방법_00128.png',\n",
       " '볶다_00129.png',\n",
       " '적극적_00130.png',\n",
       " '녹_00131.png',\n",
       " '예술가_00133.png',\n",
       " '계획_00134.png',\n",
       " '완전_00135.png',\n",
       " '기_00136.png',\n",
       " '엿보다_00137.png',\n",
       " '면적_00138.png',\n",
       " '연합_00139.png',\n",
       " '아니_00140.png',\n",
       " '이_00141.png',\n",
       " '찌르다_00142.png',\n",
       " '푸다_00143.png',\n",
       " '생방송_00144.png',\n",
       " '권리_00145.png',\n",
       " '들다_00146.png',\n",
       " '탁월하다_00147.png',\n",
       " '달다_00148.png',\n",
       " '내려다보다_00149.png',\n",
       " '우울하다_00150.png',\n",
       " '출발점_00151.png',\n",
       " '감_00152.png',\n",
       " '튀기다_00153.png',\n",
       " '깨다_00154.png',\n",
       " '여기다_00155.png',\n",
       " '땟_00156.png',\n",
       " '큰소리_00157.png',\n",
       " '치약_00158.png',\n",
       " '가르침_00159.png',\n",
       " '자매_00160.png',\n",
       " '패_00161.png',\n",
       " '위험하다_00162.png',\n",
       " '뻣_00163.png',\n",
       " '나머지_00164.png',\n",
       " '전세_00166.png',\n",
       " '발표하다_00167.png',\n",
       " '촐_00168.png',\n",
       " '결석하다_00169.png',\n",
       " '영향력_00170.png',\n",
       " '비싸다_00171.png',\n",
       " '깔다_00172.png',\n",
       " '대화하다_00173.png',\n",
       " '패션_00174.png',\n",
       " '제도적_00175.png',\n",
       " '늪_00176.png',\n",
       " '야간_00177.png',\n",
       " '통제_00178.png',\n",
       " '짹_00179.png',\n",
       " '양상추_00180.png',\n",
       " '이_00181.png',\n",
       " '덧붙이다_00182.png',\n",
       " '늑_00183.png',\n",
       " '청년_00184.png',\n",
       " '꿈_00185.png',\n",
       " '내달_00187.png',\n",
       " '철_00188.png',\n",
       " '중간_00189.png',\n",
       " '버튼_00190.png',\n",
       " '해결_00191.png',\n",
       " '법칙_00192.png',\n",
       " '욤_00193.png',\n",
       " '지하철_00194.png',\n",
       " '기술_00195.png',\n",
       " '괜찮다_00196.png',\n",
       " '이루어지다_00197.png',\n",
       " '눈썹_00198.png',\n",
       " '보장_00199.png',\n",
       " '따스하다_00200.png',\n",
       " '평화_00201.png',\n",
       " '잊다_00202.png',\n",
       " '감상_00203.png',\n",
       " '일찍이_00204.png',\n",
       " '짊_00205.png',\n",
       " '주민_00206.png',\n",
       " '가리키다_00207.png',\n",
       " '추석_00208.png',\n",
       " '회_00209.png',\n",
       " '라인_00210.png',\n",
       " '뱀_00211.png',\n",
       " '집중되다_00212.png',\n",
       " '절대_00214.png',\n",
       " '교내_00215.png',\n",
       " '한둘_00216.png',\n",
       " '소풍_00217.png',\n",
       " '균_00218.png',\n",
       " '팔월_00219.png',\n",
       " '그분_00220.png',\n",
       " '주년_00221.png',\n",
       " '못하다_00222.png',\n",
       " '펴다_00223.png',\n",
       " '년대_00224.png',\n",
       " '별도_00225.png',\n",
       " '걷다_00226.png',\n",
       " '날아오다_00227.png',\n",
       " '도로_00228.png',\n",
       " '강도_00229.png',\n",
       " '올림픽_00230.png',\n",
       " '공연하다_00231.png',\n",
       " '만_00232.png',\n",
       " '타다_00233.png',\n",
       " '쁑_00234.png',\n",
       " '적_00235.png',\n",
       " '턴_00236.png',\n",
       " '뻣_00237.png',\n",
       " '식히다_00238.png',\n",
       " '모범_00239.png',\n",
       " '쇠_00240.png',\n",
       " '구름_00241.png',\n",
       " '다행_00242.png',\n",
       " '충돌_00243.png',\n",
       " '쌀_00244.png',\n",
       " '꿇_00245.png',\n",
       " '합격하다_00246.png',\n",
       " '철학적_00247.png',\n",
       " '공통_00248.png',\n",
       " '간_00249.png',\n",
       " '기타_00250.png',\n",
       " '영화배우_00251.png',\n",
       " '죔_00252.png',\n",
       " '소용_00253.png',\n",
       " '드리다_00254.png',\n",
       " '독_00255.png',\n",
       " '이발소_00256.png',\n",
       " '여자_00257.png',\n",
       " '긁_00258.png',\n",
       " '뇜_00259.png',\n",
       " '앤_00260.png',\n",
       " '나다_00261.png',\n",
       " '귀찮다_00262.png',\n",
       " '전망하다_00264.png',\n",
       " '첫_00265.png',\n",
       " '처지_00266.png',\n",
       " '넷째_00267.png',\n",
       " '양식_00268.png',\n",
       " '추위_00269.png',\n",
       " '며느리_00270.png',\n",
       " '특수_00271.png',\n",
       " '득_00272.png',\n",
       " '일행_00273.png',\n",
       " '쏀_00274.png',\n",
       " '교환하다_00275.png',\n",
       " '몇_00276.png',\n",
       " '경쟁력_00277.png',\n",
       " '쏵_00278.png',\n",
       " '건조하다_00279.png',\n",
       " '추천하다_00280.png',\n",
       " '인하다_00281.png',\n",
       " '새우다_00282.png',\n",
       " '계단_00283.png',\n",
       " '달리다_00284.png',\n",
       " '및_00285.png',\n",
       " '븜_00286.png',\n",
       " '긁_00287.png',\n",
       " '양심_00288.png',\n",
       " '접촉_00289.png',\n",
       " '군사_00291.png',\n",
       " '슝_00292.png',\n",
       " '곈_00293.png',\n",
       " '소비_00294.png',\n",
       " '낮_00295.png',\n",
       " '끄_00296.png',\n",
       " '핑계_00297.png',\n",
       " '콘서트_00298.png',\n",
       " '추가_00299.png',\n",
       " '국제화_00300.png',\n",
       " '예습하다_00301.png',\n",
       " '올림픽_00302.png',\n",
       " '다_00303.png',\n",
       " '모집하다_00304.png',\n",
       " '중년_00305.png',\n",
       " '댁_00306.png',\n",
       " '그림자_00307.png',\n",
       " '진급_00308.png',\n",
       " '끎_00309.png',\n",
       " '모임_00310.png',\n",
       " '셈_00311.png',\n",
       " '인삼차_00312.png',\n",
       " '이_00313.png',\n",
       " '여섯_00314.png',\n",
       " '끝없이_00315.png',\n",
       " '필름_00316.png',\n",
       " '빼_00317.png',\n",
       " '가격_00318.png',\n",
       " '창조하다_00319.png',\n",
       " '지점_00320.png',\n",
       " '뇩_00321.png',\n",
       " '이력서_00322.png',\n",
       " '웠_00323.png',\n",
       " '도움말_00324.png',\n",
       " '참여하다_00325.png',\n",
       " '버리다_00327.png',\n",
       " '장례식_00328.png',\n",
       " '매스컴_00329.png',\n",
       " '쁜_00330.png',\n",
       " '고치다_00331.png',\n",
       " '태우다_00332.png',\n",
       " '걺_00333.png',\n",
       " '야하다_00334.png',\n",
       " '금지하다_00335.png',\n",
       " '해결하다_00336.png',\n",
       " '몹시_00337.png',\n",
       " '넥타이_00338.png',\n",
       " '캠페인_00339.png',\n",
       " '적응하다_00340.png',\n",
       " '태권도_00341.png',\n",
       " '주사_00342.png',\n",
       " '네거리_00343.png',\n",
       " '만일_00344.png',\n",
       " '의도_00345.png',\n",
       " '끼다_00346.png',\n",
       " '양식_00347.png',\n",
       " '좋아지다_00348.png',\n",
       " '아마_00349.png',\n",
       " '외로움_00350.png',\n",
       " '그제야_00351.png',\n",
       " '싸다_00352.png',\n",
       " '으레_00353.png',\n",
       " '타다_00355.png',\n",
       " '높다_00356.png',\n",
       " '도움_00357.png',\n",
       " '쟌_00358.png',\n",
       " '자전거_00359.png',\n",
       " '신문사_00360.png',\n",
       " '학비_00361.png',\n",
       " '충돌하다_00362.png',\n",
       " '박_00363.png',\n",
       " '코트_00364.png',\n",
       " '사설_00365.png',\n",
       " '중반_00366.png',\n",
       " '줄기_00367.png',\n",
       " '팀_00368.png',\n",
       " '원_00369.png',\n",
       " '싸우다_00370.png',\n",
       " '곳곳_00371.png',\n",
       " '제대로_00372.png',\n",
       " '튑_00373.png',\n",
       " '여동생_00374.png',\n",
       " '무리하다_00375.png',\n",
       " '멋지다_00376.png',\n",
       " '초_00377.png',\n",
       " '대_00378.png',\n",
       " '게다가_00380.png',\n",
       " '등_00381.png',\n",
       " '올여름_00382.png',\n",
       " '풀리다_00383.png',\n",
       " '강남_00384.png',\n",
       " '아_00385.png',\n",
       " '퇀_00386.png',\n",
       " '전부_00387.png',\n",
       " '임금_00388.png',\n",
       " '어깨_00389.png',\n",
       " '언_00390.png',\n",
       " '답_00391.png',\n",
       " '대체_00392.png',\n",
       " '짐작하다_00393.png',\n",
       " '향_00394.png',\n",
       " '알_00395.png',\n",
       " '뜅_00396.png',\n",
       " '문_00397.png',\n",
       " '창_00398.png',\n",
       " '대개_00399.png',\n",
       " '독감_00400.png',\n",
       " '씁_00401.png',\n",
       " '헨_00402.png',\n",
       " '포크_00403.png',\n",
       " '고려하다_00404.png',\n",
       " '수집하다_00405.png',\n",
       " '난방_00406.png',\n",
       " '유사하다_00407.png',\n",
       " '실체_00408.png',\n",
       " '표준_00409.png',\n",
       " '섭씨_00410.png',\n",
       " '매일_00412.png',\n",
       " '힘없이_00413.png',\n",
       " '차다_00414.png',\n",
       " '여동생_00415.png',\n",
       " '화가_00416.png',\n",
       " '은은하다_00417.png',\n",
       " '룅_00418.png',\n",
       " '한눈_00419.png',\n",
       " '공통적_00420.png',\n",
       " '최대_00421.png',\n",
       " '두드리다_00422.png',\n",
       " '엣_00423.png',\n",
       " '갑_00424.png',\n",
       " '뿌리치다_00425.png',\n",
       " '칫솔_00426.png',\n",
       " '신청서_00427.png',\n",
       " '준비되다_00428.png',\n",
       " '부서_00429.png',\n",
       " '몰래_00430.png',\n",
       " '녀석_00431.png',\n",
       " '자정_00433.png',\n",
       " '완성_00434.png',\n",
       " '앝_00435.png',\n",
       " '제자_00436.png',\n",
       " '헤아리다_00437.png',\n",
       " '피하다_00438.png',\n",
       " '참가_00439.png',\n",
       " '쐴_00440.png',\n",
       " '순수_00441.png',\n",
       " '신문지_00442.png',\n",
       " '앴_00443.png',\n",
       " '저리_00444.png',\n",
       " '깨다_00445.png',\n",
       " '슝_00446.png',\n",
       " '가정_00447.png',\n",
       " '듯_00448.png',\n",
       " '짖_00449.png',\n",
       " '공중전화_00450.png',\n",
       " '쥐_00451.png',\n",
       " '무게_00452.png',\n",
       " '시간_00453.png',\n",
       " '저희_00454.png',\n",
       " '졸리다_00455.png',\n",
       " '원래_00456.png',\n",
       " '츤_00457.png',\n",
       " '스타_00458.png',\n",
       " '이모_00459.png',\n",
       " '계산기_00460.png',\n",
       " '달력_00461.png',\n",
       " '헐_00462.png',\n",
       " '신기하다_00463.png',\n",
       " '절망_00464.png',\n",
       " '본사_00465.png',\n",
       " '힘들어하다_00466.png',\n",
       " '본인_00467.png',\n",
       " '교류_00468.png',\n",
       " '뚫_00469.png',\n",
       " '링_00470.png',\n",
       " '자살_00471.png',\n",
       " '잘나다_00472.png',\n",
       " '식히다_00473.png',\n",
       " '발톱_00474.png',\n",
       " '무려_00475.png',\n",
       " '기자_00476.png',\n",
       " '보장_00477.png',\n",
       " '활발히_00478.png',\n",
       " '관리_00480.png',\n",
       " '친절_00481.png',\n",
       " '천둥_00482.png',\n",
       " '빌리다_00483.png',\n",
       " '꿴_00484.png',\n",
       " '접촉_00485.png',\n",
       " '집중되다_00486.png',\n",
       " '눈뜨다_00487.png',\n",
       " '원_00488.png',\n",
       " '체온_00489.png',\n",
       " '금지하다_00490.png',\n",
       " '급격히_00491.png',\n",
       " '그룹_00492.png',\n",
       " '챙_00493.png',\n",
       " '작년_00494.png',\n",
       " '편리하다_00495.png',\n",
       " '퍽_00496.png',\n",
       " '퇴근하다_00497.png',\n",
       " '예정되다_00499.png',\n",
       " '멩_00500.png',\n",
       " '매달_00501.png',\n",
       " '불법_00502.png',\n",
       " '틀_00503.png',\n",
       " '못_00504.png',\n",
       " '사진기_00505.png',\n",
       " '전반_00506.png',\n",
       " '챰_00507.png',\n",
       " '추가_00509.png',\n",
       " '부러지다_00510.png',\n",
       " '정치_00511.png',\n",
       " '화장지_00512.png',\n",
       " '넘치다_00513.png',\n",
       " '대회_00514.png',\n",
       " '찍다_00515.png',\n",
       " '풀어지다_00516.png',\n",
       " '소용_00517.png',\n",
       " '홴_00518.png',\n",
       " '장난감_00519.png',\n",
       " '앞장서다_00520.png',\n",
       " '양국_00521.png',\n",
       " '단편_00522.png',\n",
       " '전체_00523.png',\n",
       " '따라오다_00524.png',\n",
       " '진달래_00525.png',\n",
       " '싸구려_00526.png',\n",
       " '사실_00527.png',\n",
       " '뱃_00528.png',\n",
       " '부대_00529.png',\n",
       " '예쁘다_00531.png',\n",
       " '텍_00532.png',\n",
       " '천_00533.png',\n",
       " '소녀_00534.png',\n",
       " '말다_00535.png',\n",
       " '방지_00536.png',\n",
       " '수출_00537.png',\n",
       " '영_00538.png',\n",
       " '겁_00539.png',\n",
       " '물어보다_00540.png',\n",
       " '생각하다_00541.png',\n",
       " '풀어지다_00542.png',\n",
       " '자랑스럽다_00543.png',\n",
       " '대낮_00544.png',\n",
       " '풍속_00545.png',\n",
       " '갖다_00546.png',\n",
       " '채_00547.png',\n",
       " '바_00549.png',\n",
       " '미사일_00550.png',\n",
       " '장모_00551.png',\n",
       " '마흔_00552.png',\n",
       " '팥_00553.png',\n",
       " '끼어들다_00554.png',\n",
       " '일쑤_00555.png',\n",
       " '빼놓다_00556.png',\n",
       " '지금껏_00557.png',\n",
       " '엔_00558.png',\n",
       " '달리하다_00559.png',\n",
       " '뺄_00560.png',\n",
       " '토론회_00561.png',\n",
       " '헝_00562.png',\n",
       " '이_00563.png',\n",
       " '인제_00564.png',\n",
       " '끄덕이다_00565.png',\n",
       " '강요하다_00566.png',\n",
       " '퓐_00567.png',\n",
       " '단순히_00568.png',\n",
       " '젼_00569.png',\n",
       " '계약_00570.png',\n",
       " '뒷문_00571.png',\n",
       " '파도_00572.png',\n",
       " '심장_00573.png',\n",
       " '의도_00574.png',\n",
       " '인구_00575.png',\n",
       " '등등_00576.png',\n",
       " '늦다_00578.png',\n",
       " '처지_00579.png',\n",
       " '섹_00580.png',\n",
       " '도자기_00581.png',\n",
       " '일_00582.png',\n",
       " '회장_00583.png',\n",
       " '시기_00584.png',\n",
       " '곽_00585.png',\n",
       " '판매_00586.png',\n",
       " '장갑_00587.png',\n",
       " '곳곳_00588.png',\n",
       " '뎐_00589.png',\n",
       " '마련하다_00590.png',\n",
       " '려_00591.png',\n",
       " '안정되다_00592.png',\n",
       " '소비자_00593.png',\n",
       " '따님_00594.png',\n",
       " '끼어들다_00595.png',\n",
       " '확신하다_00596.png',\n",
       " '컨디션_00597.png',\n",
       " '적응하다_00599.png',\n",
       " '쪽_00600.png',\n",
       " '버스_00601.png',\n",
       " '재생_00602.png',\n",
       " '유지되다_00603.png',\n",
       " '뒤_00604.png',\n",
       " '연애_00605.png',\n",
       " '가로등_00606.png',\n",
       " '깨끗하다_00607.png',\n",
       " '젝_00608.png',\n",
       " '마치_00609.png',\n",
       " '내달_00610.png',\n",
       " '귿_00611.png',\n",
       " '뱄_00612.png',\n",
       " '스포츠_00613.png',\n",
       " '내일_00614.png',\n",
       " '발톱_00615.png',\n",
       " '핵심_00616.png',\n",
       " '후_00617.png',\n",
       " '재밌다_00618.png',\n",
       " '바쁘다_00619.png',\n",
       " '곱다_00620.png',\n",
       " '볼_00621.png',\n",
       " '체계적_00622.png',\n",
       " '소원_00623.png',\n",
       " '꿈_00624.png',\n",
       " '인사하다_00625.png',\n",
       " '월_00626.png',\n",
       " '그_00627.png',\n",
       " '잘못_00628.png',\n",
       " '느낌_00629.png',\n",
       " '부재_00630.png',\n",
       " '벡_00631.png',\n",
       " '롄_00632.png',\n",
       " '서_00633.png',\n",
       " '고려_00634.png',\n",
       " '귀_00635.png',\n",
       " '더욱_00636.png',\n",
       " '경제_00637.png',\n",
       " '민주화_00638.png',\n",
       " '캠페인_00639.png',\n",
       " '막걸리_00640.png',\n",
       " '꾸리다_00641.png',\n",
       " '사회적_00642.png',\n",
       " '지지_00643.png',\n",
       " '곁_00645.png',\n",
       " '알코올_00646.png',\n",
       " '뼜_00647.png',\n",
       " '이렇다_00648.png',\n",
       " '크리스마스_00649.png',\n",
       " '퇴원_00650.png',\n",
       " '존재_00651.png',\n",
       " '전문적_00652.png',\n",
       " '시작하다_00653.png',\n",
       " '평균_00654.png',\n",
       " '튀기다_00655.png',\n",
       " '찹_00656.png',\n",
       " '안전_00657.png',\n",
       " '안되다_00658.png',\n",
       " '보관_00659.png',\n",
       " '기울다_00660.png',\n",
       " '냉면_00661.png',\n",
       " '달리다_00662.png',\n",
       " '괴롭다_00663.png',\n",
       " '발달되다_00664.png',\n",
       " '두드리다_00665.png',\n",
       " '이_00666.png',\n",
       " '유적_00667.png',\n",
       " '찾_00668.png',\n",
       " '생명_00669.png',\n",
       " '축구장_00670.png',\n",
       " '레저_00671.png',\n",
       " '대전_00672.png',\n",
       " '감_00673.png',\n",
       " '점원_00675.png',\n",
       " '동그랗다_00676.png',\n",
       " '위험성_00677.png',\n",
       " '바라보다_00678.png',\n",
       " '향_00679.png',\n",
       " '급_00680.png',\n",
       " '임_00681.png',\n",
       " '조금씩_00682.png',\n",
       " '펌_00683.png',\n",
       " '쫙_00684.png',\n",
       " '수저_00685.png',\n",
       " '따르다_00686.png',\n",
       " '설치_00687.png',\n",
       " '사고_00688.png',\n",
       " '뜻대로_00689.png',\n",
       " '자장면_00690.png',\n",
       " '장면_00691.png',\n",
       " '탱_00692.png',\n",
       " '그룹_00693.png',\n",
       " '목표_00694.png',\n",
       " '츤_00695.png',\n",
       " '쫑_00696.png',\n",
       " '촛불_00697.png',\n",
       " '겨자_00698.png',\n",
       " '이상_00699.png',\n",
       " '표현되다_00700.png',\n",
       " '칭_00701.png',\n",
       " '낑_00702.png',\n",
       " '잠_00703.png',\n",
       " '외롭다_00704.png',\n",
       " '돛_00705.png',\n",
       " '면_00706.png',\n",
       " '닦다_00707.png',\n",
       " '기타_00708.png',\n",
       " '민주주의_00709.png',\n",
       " '여러_00710.png',\n",
       " '운_00711.png',\n",
       " '굉장히_00712.png',\n",
       " '전_00713.png',\n",
       " '모_00715.png',\n",
       " '성립되다_00716.png',\n",
       " '생명_00717.png',\n",
       " '안다_00718.png',\n",
       " '조그맣다_00719.png',\n",
       " '가사_00720.png',\n",
       " '제의_00721.png',\n",
       " '시_00722.png',\n",
       " '헬기_00723.png',\n",
       " '적응하다_00724.png',\n",
       " '토론_00725.png',\n",
       " '탱_00726.png',\n",
       " '말_00727.png',\n",
       " '질서_00728.png',\n",
       " '외제_00729.png',\n",
       " '냘_00730.png',\n",
       " '간단히_00731.png',\n",
       " '부피_00732.png',\n",
       " '장인_00733.png',\n",
       " '막걸리_00734.png',\n",
       " '석사_00735.png',\n",
       " '증거_00736.png',\n",
       " '씸_00737.png',\n",
       " '놀리다_00738.png',\n",
       " '밴_00739.png',\n",
       " '전_00740.png',\n",
       " '뻥_00741.png',\n",
       " '달력_00742.png',\n",
       " '퍽_00743.png',\n",
       " '미역_00744.png',\n",
       " '감각_00745.png',\n",
       " '가이드_00746.png',\n",
       " '작은아버지_00747.png',\n",
       " '부_00748.png',\n",
       " '끼_00750.png',\n",
       " '꽃_00751.png',\n",
       " '곬_00752.png',\n",
       " '귀_00753.png',\n",
       " '설득하다_00754.png',\n",
       " '쭘_00755.png',\n",
       " '곧잘_00756.png',\n",
       " '돨_00757.png',\n",
       " '치다_00758.png',\n",
       " '화_00759.png',\n",
       " '완전_00760.png',\n",
       " '시기_00761.png',\n",
       " '캭_00762.png',\n",
       " '딱_00763.png',\n",
       " '정말_00764.png',\n",
       " '굉_00766.png',\n",
       " '딧_00767.png',\n",
       " '보다_00768.png',\n",
       " '그때_00769.png',\n",
       " '손질_00770.png',\n",
       " '교양_00771.png',\n",
       " '자연_00772.png',\n",
       " '초대_00773.png',\n",
       " '안_00774.png',\n",
       " '킥_00775.png',\n",
       " '얩_00776.png',\n",
       " '뎅_00777.png',\n",
       " '왕_00778.png',\n",
       " '빨래_00779.png',\n",
       " '살다_00780.png',\n",
       " '아스팔트_00781.png',\n",
       " '챙기다_00782.png',\n",
       " '긱_00783.png',\n",
       " '튀다_00784.png',\n",
       " '산소_00785.png',\n",
       " '쟐_00786.png',\n",
       " '엇갈리다_00787.png',\n",
       " '걔_00788.png',\n",
       " '부인_00789.png',\n",
       " '죙_00790.png',\n",
       " '보호되다_00791.png',\n",
       " '신용_00792.png',\n",
       " '깨_00793.png',\n",
       " '세금_00794.png',\n",
       " '녹화_00795.png',\n",
       " '못_00796.png',\n",
       " '눠_00797.png',\n",
       " '차이_00798.png',\n",
       " '흑인_00799.png',\n",
       " '굉장하다_00800.png',\n",
       " '다_00801.png',\n",
       " '멂_00802.png',\n",
       " '언제_00803.png',\n",
       " '뭏_00804.png',\n",
       " '월_00805.png',\n",
       " '퓨_00806.png',\n",
       " '소질_00807.png',\n",
       " '전망_00808.png',\n",
       " '휀_00809.png',\n",
       " '여동생_00810.png',\n",
       " '보도_00811.png',\n",
       " '구멍_00812.png',\n",
       " '뭉_00813.png',\n",
       " '못_00814.png',\n",
       " '얘_00815.png',\n",
       " '굿_00816.png',\n",
       " '날리다_00817.png',\n",
       " '도시_00818.png',\n",
       " '커피_00819.png',\n",
       " '공격_00821.png',\n",
       " '보수_00822.png',\n",
       " '노동자_00823.png',\n",
       " '기초_00824.png',\n",
       " '버리다_00825.png',\n",
       " '돎_00826.png',\n",
       " '선택_00827.png',\n",
       " '할머니_00828.png',\n",
       " '묻_00829.png',\n",
       " '일본_00830.png',\n",
       " '나오다_00831.png',\n",
       " '금세_00832.png',\n",
       " '읏_00833.png',\n",
       " '미술_00834.png',\n",
       " '포_00835.png',\n",
       " '융_00836.png',\n",
       " '식_00837.png',\n",
       " '순간적_00838.png',\n",
       " '곡식_00839.png',\n",
       " '촐_00840.png',\n",
       " '깃_00841.png',\n",
       " '침실_00842.png',\n",
       " '몸통_00843.png',\n",
       " '이날_00844.png',\n",
       " '한데_00845.png',\n",
       " '메뉴_00846.png',\n",
       " '묄_00847.png',\n",
       " '츨_00848.png',\n",
       " '제외되다_00849.png',\n",
       " '세금_00850.png',\n",
       " '둘_00851.png',\n",
       " '난방_00852.png',\n",
       " '되_00853.png',\n",
       " '낯설다_00854.png',\n",
       " '점_00855.png',\n",
       " '선명하다_00856.png',\n",
       " '머리_00857.png',\n",
       " '혹_00858.png',\n",
       " '보통_00859.png',\n",
       " '성숙하다_00860.png',\n",
       " '여기다_00861.png',\n",
       " '쁘_00862.png',\n",
       " '가능해지다_00863.png',\n",
       " '죽음_00864.png',\n",
       " '늚_00865.png',\n",
       " '내지_00866.png',\n",
       " '더_00867.png',\n",
       " '조정_00868.png',\n",
       " '정상_00869.png',\n",
       " '부담_00870.png',\n",
       " '주다_00871.png',\n",
       " '문제되다_00873.png',\n",
       " '딱_00874.png',\n",
       " '냅_00875.png',\n",
       " '소녀_00876.png',\n",
       " '닙_00877.png',\n",
       " '관계자_00878.png',\n",
       " '목사_00879.png',\n",
       " '말다_00880.png',\n",
       " '갗_00881.png',\n",
       " '죄인_00882.png',\n",
       " '및_00884.png',\n",
       " '얻_00885.png',\n",
       " '갈수록_00886.png',\n",
       " '입시_00887.png',\n",
       " '논쟁_00888.png',\n",
       " '펙_00889.png',\n",
       " '맞이하다_00890.png',\n",
       " '그럼_00891.png',\n",
       " '솔_00892.png',\n",
       " '여름철_00893.png',\n",
       " '만족하다_00894.png',\n",
       " '충분하다_00895.png',\n",
       " '연기_00896.png',\n",
       " '대량_00897.png',\n",
       " '쑈_00898.png',\n",
       " '굶다_00899.png',\n",
       " '신용_00900.png',\n",
       " '아침_00901.png',\n",
       " '던지다_00902.png',\n",
       " '여우_00903.png',\n",
       " '지난번_00904.png',\n",
       " '졈_00905.png',\n",
       " '어리석다_00906.png',\n",
       " '기억_00907.png',\n",
       " '대사_00908.png',\n",
       " '말다_00909.png',\n",
       " '칠월_00910.png',\n",
       " '녀석_00911.png',\n",
       " '성격_00912.png',\n",
       " '주위_00913.png',\n",
       " '배치_00914.png',\n",
       " '쑨_00915.png',\n",
       " '몸통_00916.png',\n",
       " '일쑤_00917.png',\n",
       " '직전_00918.png',\n",
       " '괴롭다_00920.png',\n",
       " '독감_00921.png',\n",
       " '갖가지_00922.png',\n",
       " '찔_00923.png',\n",
       " '버스_00924.png',\n",
       " '미치다_00925.png',\n",
       " '온돌_00926.png',\n",
       " '안녕히_00927.png',\n",
       " '놘_00928.png',\n",
       " '요리하다_00929.png',\n",
       " '별_00930.png',\n",
       " '두세_00931.png',\n",
       " '운동하다_00932.png',\n",
       " '동_00933.png',\n",
       " '진하다_00934.png',\n",
       " '지붕_00935.png',\n",
       " '씨름_00936.png',\n",
       " '튀김_00937.png',\n",
       " '맛있다_00938.png',\n",
       " '다행_00939.png',\n",
       " '혀_00940.png',\n",
       " '안전_00941.png',\n",
       " '뜯_00942.png',\n",
       " '쓴맛_00943.png',\n",
       " '케_00944.png',\n",
       " '많이_00945.png',\n",
       " '교내_00946.png',\n",
       " '참되다_00947.png',\n",
       " '횻_00948.png',\n",
       " '텅_00949.png',\n",
       " '부족_00950.png',\n",
       " '능력_00951.png',\n",
       " '졔_00952.png',\n",
       " '시기_00953.png',\n",
       " '승_00954.png',\n",
       " '변신_00955.png',\n",
       " '신부_00956.png',\n",
       " '낟_00957.png',\n",
       " '꼬리_00958.png',\n",
       " '아드님_00959.png',\n",
       " '태도_00960.png',\n",
       " '게으르다_00961.png',\n",
       " '짜증스럽다_00962.png',\n",
       " '궁극적_00963.png',\n",
       " '휴일_00964.png',\n",
       " '위험_00965.png',\n",
       " '표_00966.png',\n",
       " '묶_00967.png',\n",
       " '방송_00968.png',\n",
       " '증거_00969.png',\n",
       " '신세_00970.png',\n",
       " '뭐_00971.png',\n",
       " '골목_00972.png',\n",
       " '병들다_00973.png',\n",
       " '카레_00974.png',\n",
       " '금_00976.png',\n",
       " '미끄럽다_00977.png',\n",
       " '건넌방_00978.png',\n",
       " '딸_00979.png',\n",
       " '늘리다_00980.png',\n",
       " '여동생_00981.png',\n",
       " '이력서_00982.png',\n",
       " '지_00983.png',\n",
       " '골프_00984.png',\n",
       " '에너지_00985.png',\n",
       " '발_00986.png',\n",
       " '뛰어놀다_00987.png',\n",
       " '두려워하다_00988.png',\n",
       " '쓰이다_00989.png',\n",
       " '보조_00990.png',\n",
       " '지다_00991.png',\n",
       " '육상_00992.png',\n",
       " '경험_00993.png',\n",
       " '구분되다_00994.png',\n",
       " '간접적_00995.png',\n",
       " '신랑_00996.png',\n",
       " '쾌_00997.png',\n",
       " '새_00998.png',\n",
       " '대학원_00999.png',\n",
       " '먹다_01000.png',\n",
       " '오르다_01001.png',\n",
       " '법칙_01002.png',\n",
       " '시장_01003.png',\n",
       " '미_01004.png',\n",
       " '정반대_01006.png',\n",
       " '들려오다_01007.png',\n",
       " '식용유_01008.png',\n",
       " '호박_01009.png',\n",
       " '죄인_01010.png',\n",
       " '곁_01011.png',\n",
       " '릊_01012.png',\n",
       " '해_01013.png',\n",
       " '뽁_01015.png',\n",
       " '보내다_01016.png',\n",
       " '뜨다_01017.png',\n",
       " '힘껏_01018.png',\n",
       " '응_01019.png',\n",
       " '소요되다_01020.png',\n",
       " '훌륭하다_01021.png',\n",
       " '쥐다_01022.png',\n",
       " '갖다_01023.png',\n",
       " '신부_01024.png',\n",
       " '걸음_01025.png',\n",
       " '북쪽_01026.png',\n",
       " '경기_01027.png',\n",
       " '여름철_01028.png',\n",
       " '삘_01029.png',\n",
       " '재채기_01030.png',\n",
       " '피_01031.png',\n",
       " '첫날_01032.png',\n",
       " '무사하다_01033.png',\n",
       " ...]"
      ]
     },
     "execution_count": 13,
     "metadata": {},
     "output_type": "execute_result"
    }
   ],
   "source": [
    "os.listdir('./train')"
   ]
  },
  {
   "cell_type": "code",
   "execution_count": 18,
   "id": "bfb53151",
   "metadata": {},
   "outputs": [
    {
     "name": "stdout",
     "output_type": "stream",
     "text": [
      "input path:  /home/cuai5th/CUAI_2022/KWAKsumin/OCR/data/train\n",
      "output path:  /home/cuai5th/CUAI_2022/KWAKsumin/OCR/data_transformed/train\n",
      "\n",
      "Output folder already exists.\n",
      "\n",
      "So, delete all data of output folder [/home/cuai5th/CUAI_2022/KWAKsumin/OCR/data_transformed/train]\n",
      "\n",
      "Total file count:  76888\n",
      "76800 / 76888 Processing !!\n",
      "Conversion complete!\n",
      "\n"
     ]
    }
   ],
   "source": [
    "!python3 TRDG2DTRB/convert.py \\\n",
    "     --input_path ./data/train \\\n",
    "     --output_path ./data_transformed/train"
   ]
  },
  {
   "cell_type": "code",
   "execution_count": 19,
   "id": "c80d8b85",
   "metadata": {},
   "outputs": [
    {
     "name": "stdout",
     "output_type": "stream",
     "text": [
      "input path:  /home/cuai5th/CUAI_2022/KWAKsumin/OCR/data/test\n",
      "output path:  /home/cuai5th/CUAI_2022/KWAKsumin/OCR/data_transformed/test\n",
      "\n",
      "Output folder already exists.\n",
      "\n",
      "So, delete all data of output folder [/home/cuai5th/CUAI_2022/KWAKsumin/OCR/data_transformed/test]\n",
      "\n",
      "Total file count:  74121\n",
      "74100 / 74121 Processing !!\n",
      "Conversion complete!\n",
      "\n"
     ]
    }
   ],
   "source": [
    "!python3 deep/TRDG2DTRB/convert.py \\\n",
    "     --input_path ./data/test \\\n",
    "     --output_path ./data_transformed/test"
   ]
  },
  {
   "cell_type": "markdown",
   "id": "df7fa015",
   "metadata": {},
   "source": [
    "## Train/Valid Split"
   ]
  },
  {
   "cell_type": "code",
   "execution_count": 51,
   "id": "5b3227e6",
   "metadata": {},
   "outputs": [],
   "source": [
    "train = pd.read_csv('./data_transformed/train/gt.txt', sep='\\t', header=None)\n",
    "train.columns = ['img_path', 'label']"
   ]
  },
  {
   "cell_type": "code",
   "execution_count": 52,
   "id": "e660e5d2",
   "metadata": {},
   "outputs": [],
   "source": [
    "from sklearn.model_selection import train_test_split\n",
    "\n",
    "train, valid = train_test_split(train, test_size=0.2)"
   ]
  },
  {
   "cell_type": "code",
   "execution_count": 53,
   "id": "5ed3c14e",
   "metadata": {
    "scrolled": true
   },
   "outputs": [
    {
     "data": {
      "text/html": [
       "<div>\n",
       "<style scoped>\n",
       "    .dataframe tbody tr th:only-of-type {\n",
       "        vertical-align: middle;\n",
       "    }\n",
       "\n",
       "    .dataframe tbody tr th {\n",
       "        vertical-align: top;\n",
       "    }\n",
       "\n",
       "    .dataframe thead th {\n",
       "        text-align: right;\n",
       "    }\n",
       "</style>\n",
       "<table border=\"1\" class=\"dataframe\">\n",
       "  <thead>\n",
       "    <tr style=\"text-align: right;\">\n",
       "      <th></th>\n",
       "      <th>img_path</th>\n",
       "      <th>label</th>\n",
       "    </tr>\n",
       "  </thead>\n",
       "  <tbody>\n",
       "    <tr>\n",
       "      <th>39364</th>\n",
       "      <td>images/image_39364.png</td>\n",
       "      <td>초청장</td>\n",
       "    </tr>\n",
       "    <tr>\n",
       "      <th>23199</th>\n",
       "      <td>images/image_23199.png</td>\n",
       "      <td>볐</td>\n",
       "    </tr>\n",
       "    <tr>\n",
       "      <th>76635</th>\n",
       "      <td>images/image_76635.png</td>\n",
       "      <td>존중하다</td>\n",
       "    </tr>\n",
       "    <tr>\n",
       "      <th>16639</th>\n",
       "      <td>images/image_16639.png</td>\n",
       "      <td>장가</td>\n",
       "    </tr>\n",
       "    <tr>\n",
       "      <th>42843</th>\n",
       "      <td>images/image_42843.png</td>\n",
       "      <td>사전</td>\n",
       "    </tr>\n",
       "    <tr>\n",
       "      <th>...</th>\n",
       "      <td>...</td>\n",
       "      <td>...</td>\n",
       "    </tr>\n",
       "    <tr>\n",
       "      <th>16376</th>\n",
       "      <td>images/image_16376.png</td>\n",
       "      <td>핏</td>\n",
       "    </tr>\n",
       "    <tr>\n",
       "      <th>2112</th>\n",
       "      <td>images/image_02112.png</td>\n",
       "      <td>딸</td>\n",
       "    </tr>\n",
       "    <tr>\n",
       "      <th>70544</th>\n",
       "      <td>images/image_70544.png</td>\n",
       "      <td>코드</td>\n",
       "    </tr>\n",
       "    <tr>\n",
       "      <th>36683</th>\n",
       "      <td>images/image_36683.png</td>\n",
       "      <td>뗑</td>\n",
       "    </tr>\n",
       "    <tr>\n",
       "      <th>28170</th>\n",
       "      <td>images/image_28170.png</td>\n",
       "      <td>네</td>\n",
       "    </tr>\n",
       "  </tbody>\n",
       "</table>\n",
       "<p>15378 rows × 2 columns</p>\n",
       "</div>"
      ],
      "text/plain": [
       "                     img_path label\n",
       "39364  images/image_39364.png   초청장\n",
       "23199  images/image_23199.png     볐\n",
       "76635  images/image_76635.png  존중하다\n",
       "16639  images/image_16639.png    장가\n",
       "42843  images/image_42843.png    사전\n",
       "...                       ...   ...\n",
       "16376  images/image_16376.png     핏\n",
       "2112   images/image_02112.png     딸\n",
       "70544  images/image_70544.png    코드\n",
       "36683  images/image_36683.png     뗑\n",
       "28170  images/image_28170.png     네\n",
       "\n",
       "[15378 rows x 2 columns]"
      ]
     },
     "execution_count": 53,
     "metadata": {},
     "output_type": "execute_result"
    }
   ],
   "source": [
    "valid"
   ]
  },
  {
   "cell_type": "markdown",
   "id": "30e5a103",
   "metadata": {},
   "source": [
    "train 폴더에서 valid 셋으로 떨어진 데이터를 valid 폴더로 이동"
   ]
  },
  {
   "cell_type": "code",
   "execution_count": 59,
   "id": "ded72795",
   "metadata": {
    "scrolled": true
   },
   "outputs": [
    {
     "name": "stderr",
     "output_type": "stream",
     "text": [
      "100%|██████████████████████████████████████████████████████████████████████████| 15378/15378 [00:00<00:00, 21748.90it/s]\n"
     ]
    }
   ],
   "source": [
    "for i in tqdm(range(valid.shape[0])):\n",
    "    os.rename('./data_transformed/train/' + valid['img_path'].iloc[i], './data_transformed/valid/' + valid['img_path'].iloc[i])"
   ]
  },
  {
   "cell_type": "code",
   "execution_count": 69,
   "id": "0a5b736d",
   "metadata": {},
   "outputs": [],
   "source": [
    "train.to_csv('./data_transformed/train/gt.txt', sep='\\t', index=False, header=False)\n",
    "valid.to_csv('./data_transformed/valid/gt.txt', sep='\\t', index=False, header=False)"
   ]
  },
  {
   "cell_type": "markdown",
   "id": "f803a023",
   "metadata": {},
   "source": [
    "----"
   ]
  },
  {
   "cell_type": "markdown",
   "id": "932c02f6",
   "metadata": {},
   "source": [
    "## Cut-Mix"
   ]
  },
  {
   "cell_type": "code",
   "execution_count": null,
   "id": "7f962df2",
   "metadata": {},
   "outputs": [],
   "source": [
    "import shutil\n",
    "\n",
    "shutil.copytree('/home/cuai5th/CUAI_2022/KWAKsumin/OCR/data_transformed/train', '/home/cuai5th/CUAI_2022/KWAKsumin/OCR/data_transformed/train_aug')"
   ]
  },
  {
   "cell_type": "code",
   "execution_count": 3,
   "id": "a02000d4",
   "metadata": {},
   "outputs": [],
   "source": [
    "import numpy as np\n",
    "import matplotlib.pyplot as plt\n",
    "import pandas as pd\n",
    "import cv2\n",
    "import random\n",
    "import os\n",
    "from tqdm import tqdm\n",
    "import warnings\n",
    "warnings.filterwarnings('ignore')"
   ]
  },
  {
   "cell_type": "code",
   "execution_count": 36,
   "id": "a276de46",
   "metadata": {
    "scrolled": true
   },
   "outputs": [
    {
     "data": {
      "text/html": [
       "<div>\n",
       "<style scoped>\n",
       "    .dataframe tbody tr th:only-of-type {\n",
       "        vertical-align: middle;\n",
       "    }\n",
       "\n",
       "    .dataframe tbody tr th {\n",
       "        vertical-align: top;\n",
       "    }\n",
       "\n",
       "    .dataframe thead th {\n",
       "        text-align: right;\n",
       "    }\n",
       "</style>\n",
       "<table border=\"1\" class=\"dataframe\">\n",
       "  <thead>\n",
       "    <tr style=\"text-align: right;\">\n",
       "      <th></th>\n",
       "      <th>img_path</th>\n",
       "      <th>label</th>\n",
       "      <th>len</th>\n",
       "    </tr>\n",
       "  </thead>\n",
       "  <tbody>\n",
       "    <tr>\n",
       "      <th>0</th>\n",
       "      <td>images/image_004518.png</td>\n",
       "      <td>약</td>\n",
       "      <td>1</td>\n",
       "    </tr>\n",
       "    <tr>\n",
       "      <th>1</th>\n",
       "      <td>images/image_009398.png</td>\n",
       "      <td>업무</td>\n",
       "      <td>2</td>\n",
       "    </tr>\n",
       "    <tr>\n",
       "      <th>2</th>\n",
       "      <td>images/image_013852.png</td>\n",
       "      <td>떪</td>\n",
       "      <td>1</td>\n",
       "    </tr>\n",
       "    <tr>\n",
       "      <th>3</th>\n",
       "      <td>images/image_011511.png</td>\n",
       "      <td>삼</td>\n",
       "      <td>1</td>\n",
       "    </tr>\n",
       "    <tr>\n",
       "      <th>4</th>\n",
       "      <td>images/image_048669.png</td>\n",
       "      <td>이력서</td>\n",
       "      <td>3</td>\n",
       "    </tr>\n",
       "    <tr>\n",
       "      <th>...</th>\n",
       "      <td>...</td>\n",
       "      <td>...</td>\n",
       "      <td>...</td>\n",
       "    </tr>\n",
       "    <tr>\n",
       "      <th>58323</th>\n",
       "      <td>images/image_069986.png</td>\n",
       "      <td>삣</td>\n",
       "      <td>1</td>\n",
       "    </tr>\n",
       "    <tr>\n",
       "      <th>58324</th>\n",
       "      <td>images/image_006082.png</td>\n",
       "      <td>낳</td>\n",
       "      <td>1</td>\n",
       "    </tr>\n",
       "    <tr>\n",
       "      <th>58325</th>\n",
       "      <td>images/image_070643.png</td>\n",
       "      <td>성</td>\n",
       "      <td>1</td>\n",
       "    </tr>\n",
       "    <tr>\n",
       "      <th>58326</th>\n",
       "      <td>images/image_021522.png</td>\n",
       "      <td>발</td>\n",
       "      <td>1</td>\n",
       "    </tr>\n",
       "    <tr>\n",
       "      <th>58327</th>\n",
       "      <td>images/image_012684.png</td>\n",
       "      <td>받</td>\n",
       "      <td>1</td>\n",
       "    </tr>\n",
       "  </tbody>\n",
       "</table>\n",
       "<p>58328 rows × 3 columns</p>\n",
       "</div>"
      ],
      "text/plain": [
       "                      img_path label  len\n",
       "0      images/image_004518.png     약    1\n",
       "1      images/image_009398.png    업무    2\n",
       "2      images/image_013852.png     떪    1\n",
       "3      images/image_011511.png     삼    1\n",
       "4      images/image_048669.png   이력서    3\n",
       "...                        ...   ...  ...\n",
       "58323  images/image_069986.png     삣    1\n",
       "58324  images/image_006082.png     낳    1\n",
       "58325  images/image_070643.png     성    1\n",
       "58326  images/image_021522.png     발    1\n",
       "58327  images/image_012684.png     받    1\n",
       "\n",
       "[58328 rows x 3 columns]"
      ]
     },
     "execution_count": 36,
     "metadata": {},
     "output_type": "execute_result"
    }
   ],
   "source": [
    "df = pd.read_csv('/home/cuai5th/CUAI_2022/KWAKsumin/OCR/data_transformed/train_aug/gt.txt', header=None, sep='\\t')\n",
    "df.columns = ['img_path', 'label']\n",
    "df['len'] = df['label'].str.len()\n",
    "df"
   ]
  },
  {
   "cell_type": "code",
   "execution_count": 41,
   "id": "05dcb333",
   "metadata": {},
   "outputs": [],
   "source": [
    "# 기본 디렉토리 위치를 aug 데이터 폴더로 변경\n",
    "\n",
    "os.chdir('/home/cuai5th/CUAI_2022/KWAKsumin/OCR/data_transformed/train_aug')"
   ]
  },
  {
   "cell_type": "code",
   "execution_count": 42,
   "id": "e7f3228e",
   "metadata": {},
   "outputs": [
    {
     "data": {
      "text/plain": [
       "58328"
      ]
     },
     "execution_count": 42,
     "metadata": {},
     "output_type": "execute_result"
    }
   ],
   "source": [
    "len(os.listdir('./images'))"
   ]
  },
  {
   "cell_type": "code",
   "execution_count": 14,
   "id": "0dd0143c",
   "metadata": {
    "scrolled": true
   },
   "outputs": [
    {
     "data": {
      "text/plain": [
       "('images/image_27160.png', 'images/image_027160.png')"
      ]
     },
     "execution_count": 14,
     "metadata": {},
     "output_type": "execute_result"
    }
   ],
   "source": [
    "df['img_path'][0], 'images/image_0' + df['img_path'][0][-9:-4] + '.png'"
   ]
  },
  {
   "cell_type": "code",
   "execution_count": 36,
   "id": "d29d3c5c",
   "metadata": {},
   "outputs": [
    {
     "name": "stderr",
     "output_type": "stream",
     "text": [
      "100%|████████████████████████████████████████████████████████████████████████████| 61510/61510 [04:53<00:00, 209.85it/s]\n"
     ]
    }
   ],
   "source": [
    "# 원본파일은 숫자가 5자리였음 -> 6자리로 바꾸기(데이터가 10만단위까지 더 늘어나야 하기 때문)\n",
    "\n",
    "from tqdm import tqdm\n",
    "\n",
    "for i in tqdm(range(df.shape[0])):\n",
    "    os.rename(df['img_path'][i], 'images/image_0' + df['img_path'][i][-9:-4] + '.png')\n",
    "    df['img_path'][i] = 'images/image_0' + df['img_path'][i][-9:-4] + '.png'"
   ]
  },
  {
   "cell_type": "code",
   "execution_count": 45,
   "id": "eab1624f",
   "metadata": {},
   "outputs": [
    {
     "data": {
      "text/html": [
       "<div>\n",
       "<style scoped>\n",
       "    .dataframe tbody tr th:only-of-type {\n",
       "        vertical-align: middle;\n",
       "    }\n",
       "\n",
       "    .dataframe tbody tr th {\n",
       "        vertical-align: top;\n",
       "    }\n",
       "\n",
       "    .dataframe thead th {\n",
       "        text-align: right;\n",
       "    }\n",
       "</style>\n",
       "<table border=\"1\" class=\"dataframe\">\n",
       "  <thead>\n",
       "    <tr style=\"text-align: right;\">\n",
       "      <th></th>\n",
       "      <th>img_path</th>\n",
       "      <th>label</th>\n",
       "      <th>len</th>\n",
       "    </tr>\n",
       "  </thead>\n",
       "  <tbody>\n",
       "    <tr>\n",
       "      <th>0</th>\n",
       "      <td>images/image_004518.png</td>\n",
       "      <td>약</td>\n",
       "      <td>1</td>\n",
       "    </tr>\n",
       "    <tr>\n",
       "      <th>1</th>\n",
       "      <td>images/image_009398.png</td>\n",
       "      <td>업무</td>\n",
       "      <td>2</td>\n",
       "    </tr>\n",
       "    <tr>\n",
       "      <th>2</th>\n",
       "      <td>images/image_013852.png</td>\n",
       "      <td>떪</td>\n",
       "      <td>1</td>\n",
       "    </tr>\n",
       "    <tr>\n",
       "      <th>3</th>\n",
       "      <td>images/image_011511.png</td>\n",
       "      <td>삼</td>\n",
       "      <td>1</td>\n",
       "    </tr>\n",
       "    <tr>\n",
       "      <th>4</th>\n",
       "      <td>images/image_048669.png</td>\n",
       "      <td>이력서</td>\n",
       "      <td>3</td>\n",
       "    </tr>\n",
       "    <tr>\n",
       "      <th>...</th>\n",
       "      <td>...</td>\n",
       "      <td>...</td>\n",
       "      <td>...</td>\n",
       "    </tr>\n",
       "    <tr>\n",
       "      <th>58323</th>\n",
       "      <td>images/image_069986.png</td>\n",
       "      <td>삣</td>\n",
       "      <td>1</td>\n",
       "    </tr>\n",
       "    <tr>\n",
       "      <th>58324</th>\n",
       "      <td>images/image_006082.png</td>\n",
       "      <td>낳</td>\n",
       "      <td>1</td>\n",
       "    </tr>\n",
       "    <tr>\n",
       "      <th>58325</th>\n",
       "      <td>images/image_070643.png</td>\n",
       "      <td>성</td>\n",
       "      <td>1</td>\n",
       "    </tr>\n",
       "    <tr>\n",
       "      <th>58326</th>\n",
       "      <td>images/image_021522.png</td>\n",
       "      <td>발</td>\n",
       "      <td>1</td>\n",
       "    </tr>\n",
       "    <tr>\n",
       "      <th>58327</th>\n",
       "      <td>images/image_012684.png</td>\n",
       "      <td>받</td>\n",
       "      <td>1</td>\n",
       "    </tr>\n",
       "  </tbody>\n",
       "</table>\n",
       "<p>58328 rows × 3 columns</p>\n",
       "</div>"
      ],
      "text/plain": [
       "                      img_path label  len\n",
       "0      images/image_004518.png     약    1\n",
       "1      images/image_009398.png    업무    2\n",
       "2      images/image_013852.png     떪    1\n",
       "3      images/image_011511.png     삼    1\n",
       "4      images/image_048669.png   이력서    3\n",
       "...                        ...   ...  ...\n",
       "58323  images/image_069986.png     삣    1\n",
       "58324  images/image_006082.png     낳    1\n",
       "58325  images/image_070643.png     성    1\n",
       "58326  images/image_021522.png     발    1\n",
       "58327  images/image_012684.png     받    1\n",
       "\n",
       "[58328 rows x 3 columns]"
      ]
     },
     "execution_count": 45,
     "metadata": {},
     "output_type": "execute_result"
    }
   ],
   "source": [
    "df"
   ]
  },
  {
   "cell_type": "code",
   "execution_count": 46,
   "id": "e7338147",
   "metadata": {
    "scrolled": true
   },
   "outputs": [
    {
     "data": {
      "text/html": [
       "<div>\n",
       "<style scoped>\n",
       "    .dataframe tbody tr th:only-of-type {\n",
       "        vertical-align: middle;\n",
       "    }\n",
       "\n",
       "    .dataframe tbody tr th {\n",
       "        vertical-align: top;\n",
       "    }\n",
       "\n",
       "    .dataframe thead th {\n",
       "        text-align: right;\n",
       "    }\n",
       "</style>\n",
       "<table border=\"1\" class=\"dataframe\">\n",
       "  <thead>\n",
       "    <tr style=\"text-align: right;\">\n",
       "      <th></th>\n",
       "      <th>len</th>\n",
       "      <th>len_count</th>\n",
       "    </tr>\n",
       "  </thead>\n",
       "  <tbody>\n",
       "    <tr>\n",
       "      <th>0</th>\n",
       "      <td>1</td>\n",
       "      <td>23703</td>\n",
       "    </tr>\n",
       "    <tr>\n",
       "      <th>1</th>\n",
       "      <td>2</td>\n",
       "      <td>18655</td>\n",
       "    </tr>\n",
       "    <tr>\n",
       "      <th>2</th>\n",
       "      <td>3</td>\n",
       "      <td>8762</td>\n",
       "    </tr>\n",
       "    <tr>\n",
       "      <th>3</th>\n",
       "      <td>4</td>\n",
       "      <td>6521</td>\n",
       "    </tr>\n",
       "    <tr>\n",
       "      <th>4</th>\n",
       "      <td>5</td>\n",
       "      <td>671</td>\n",
       "    </tr>\n",
       "    <tr>\n",
       "      <th>5</th>\n",
       "      <td>6</td>\n",
       "      <td>16</td>\n",
       "    </tr>\n",
       "  </tbody>\n",
       "</table>\n",
       "</div>"
      ],
      "text/plain": [
       "   len  len_count\n",
       "0    1      23703\n",
       "1    2      18655\n",
       "2    3       8762\n",
       "3    4       6521\n",
       "4    5        671\n",
       "5    6         16"
      ]
     },
     "metadata": {},
     "output_type": "display_data"
    }
   ],
   "source": [
    "df_len_count = pd.DataFrame(df['len'].value_counts())\n",
    "df_len_count.reset_index(inplace=True)\n",
    "df_len_count.columns = ['len', 'len_count']\n",
    "\n",
    "display(df_len_count)"
   ]
  },
  {
   "cell_type": "code",
   "execution_count": 47,
   "id": "4b503d7a",
   "metadata": {},
   "outputs": [
    {
     "data": {
      "text/plain": [
       "{1: 23703, 2: 18655, 3: 8762, 4: 6521, 5: 671, 6: 16}"
      ]
     },
     "execution_count": 47,
     "metadata": {},
     "output_type": "execute_result"
    }
   ],
   "source": [
    "len2count = {k:v for k,v in zip(df_len_count['len'], df_len_count['len_count'])}\n",
    "len2count"
   ]
  },
  {
   "cell_type": "code",
   "execution_count": 57,
   "id": "48b9d8c0",
   "metadata": {},
   "outputs": [
    {
     "data": {
      "text/plain": [
       "Text(0.5, 1.0, '창작살')"
      ]
     },
     "execution_count": 57,
     "metadata": {},
     "output_type": "execute_result"
    },
    {
     "data": {
      "image/png": "[encoded data removed]",
      "text/plain": [
       "<Figure size 432x288 with 1 Axes>"
      ]
     },
     "metadata": {
      "needs_background": "light"
     },
     "output_type": "display_data"
    }
   ],
   "source": [
    "select1, select2 = random.choice(df['img_path']), random.choice(df['img_path'])\n",
    "label1, label2 = df[df['img_path'] == select1]['label'].item(), df[df['img_path'] == select2]['label'].item()\n",
    "    \n",
    "\n",
    "# 이미지 읽기\n",
    "img1 = cv2.imread(select1, 1);\n",
    "img2 = cv2.imread(select2, 1);\n",
    "    \n",
    "addh = cv2.hconcat([img1, img2])\n",
    "plt.imshow(addh)\n",
    "plt.title(label1 + label2)"
   ]
  },
  {
   "cell_type": "markdown",
   "id": "153fd6cd",
   "metadata": {},
   "source": [
    "위 plot 그림처럼 Cutmix로 새로운 이미지를 생성해서 파일에 저장하고, 데이터프레임에 추가"
   ]
  },
  {
   "cell_type": "code",
   "execution_count": 58,
   "id": "4ebdc05e",
   "metadata": {
    "scrolled": true
   },
   "outputs": [
    {
     "name": "stderr",
     "output_type": "stream",
     "text": [
      "100%|█████████████████████████████████████████████████████████████████████████| 100000/100000 [1:11:22<00:00, 23.35it/s]\n"
     ]
    }
   ],
   "source": [
    "idx = 100000\n",
    "img_original = df['img_path']\n",
    "\n",
    "for i in tqdm(range(50000)):\n",
    "    select1, select2 = random.choice(img_original), random.choice(img_original)\n",
    "    len1, len2 = df[df['img_path'] == select1]['len'].item(), df[df['img_path'] == select2]['len'].item()\n",
    "    label1, label2 = df[df['img_path'] == select1]['label'].item(), df[df['img_path'] == select2]['label'].item()\n",
    "    \n",
    "    if len1 + len2 > 6:\n",
    "        continue\n",
    "        \n",
    "    if len2count[len1 + len2] > 30000:\n",
    "        continue\n",
    "    \n",
    "    # 이미지 읽기\n",
    "    img1 = cv2.imread(select1, 1);\n",
    "    img2 = cv2.imread(select2, 1);\n",
    "    \n",
    "    addh = cv2.hconcat([img1, img2])\n",
    "    \n",
    "    new_data = {\n",
    "        'img_path' : f\"images/image_{idx:06d}.png\",\n",
    "        'label' : label1 + label2,\n",
    "        'len' : len1 + len2\n",
    "    }\n",
    "    \n",
    "    df = df.append(new_data, ignore_index=True)\n",
    "    cv2.imwrite(f\"images/image_{idx:06d}.png\", addh)\n",
    "    idx += 1\n",
    "    len2count[len1 + len2] += 1\n",
    "    "
   ]
  },
  {
   "cell_type": "code",
   "execution_count": 61,
   "id": "07ad6b82",
   "metadata": {},
   "outputs": [],
   "source": [
    "df = df.drop(['len'], axis=1)"
   ]
  },
  {
   "cell_type": "code",
   "execution_count": 63,
   "id": "a9d30e6a",
   "metadata": {},
   "outputs": [],
   "source": [
    "df.to_csv('./gt.txt', sep='\\t', encoding='utf-8-sig', index=False, header=None)"
   ]
  },
  {
   "cell_type": "markdown",
   "id": "2ef358a4",
   "metadata": {},
   "source": [
    "## STRaug"
   ]
  },
  {
   "cell_type": "code",
   "execution_count": 1,
   "id": "8b338f97",
   "metadata": {},
   "outputs": [],
   "source": [
    "import pandas as pd\n",
    "from PIL import Image\n",
    "import os\n",
    "from tqdm import tqdm\n",
    "\n",
    "from straug.noise import GaussianNoise\n",
    "# from straug.blur import GaussianBlur  \n",
    "# GaussianBlur는 코드 에러로 직접 Class 정의해서 실행\n",
    "from straug.camera import Contrast, Brightness, Pixelate"
   ]
  },
  {
   "cell_type": "code",
   "execution_count": null,
   "id": "a291a989",
   "metadata": {},
   "outputs": [],
   "source": [
    "# 파일 불러오기\n",
    "df = pd.read_csv(\"/home/cuai5th/CUAI_2022/KWAKsumin/OCR/data_transformed/train_aug/gt.txt\", sep='\\t', header=None)\n",
    "df.columns = ['img_path', 'label']"
   ]
  },
  {
   "cell_type": "code",
   "execution_count": null,
   "id": "a0b7fc72",
   "metadata": {},
   "outputs": [],
   "source": [
    "여기부터 코드 만져야함"
   ]
  },
  {
   "cell_type": "code",
   "execution_count": null,
   "id": "dda8ba78",
   "metadata": {},
   "outputs": [],
   "source": []
  },
  {
   "cell_type": "code",
   "execution_count": null,
   "id": "4ced591d",
   "metadata": {},
   "outputs": [],
   "source": []
  },
  {
   "cell_type": "code",
   "execution_count": null,
   "id": "48875ce2",
   "metadata": {},
   "outputs": [],
   "source": []
  },
  {
   "cell_type": "code",
   "execution_count": 4,
   "id": "cd130443",
   "metadata": {
    "scrolled": false
   },
   "outputs": [
    {
     "name": "stdout",
     "output_type": "stream",
     "text": [
      "<class 'pandas.core.frame.DataFrame'>\n",
      "Int64Index: 42944 entries, 2 to 82943\n",
      "Data columns (total 2 columns):\n",
      " #   Column    Non-Null Count  Dtype \n",
      "---  ------    --------------  ----- \n",
      " 0   img_path  42944 non-null  object\n",
      " 1   label     42944 non-null  object\n",
      "dtypes: object(2)\n",
      "memory usage: 1006.5+ KB\n"
     ]
    }
   ],
   "source": [
    "df_no = df.sample(n=8000)\n",
    "df_no_index = df_no.index.to_list()\n",
    "df = df.drop(df_no_index)\n",
    "\n",
    "df_br = df.sample(n=8000)\n",
    "df_br_index = df_br.index.to_list()\n",
    "df = df.drop(df_br_index)\n",
    "\n",
    "df_bl = df.sample(n=8000)\n",
    "df_bl_index = df_bl.index.to_list()\n",
    "df = df.drop(df_bl_index)\n",
    "\n",
    "df_co = df.sample(n=8000)\n",
    "df_co_index = df_co.index.to_list()\n",
    "df = df.drop(df_co_index)\n",
    "\n",
    "df_pi = df.sample(n=8000)\n",
    "df_pi_index = df_pi.index.to_list()\n",
    "df = df.drop(df_pi_index)\n",
    "\n",
    "df.info()"
   ]
  },
  {
   "cell_type": "code",
   "execution_count": 5,
   "id": "93dbc255",
   "metadata": {},
   "outputs": [
    {
     "data": {
      "text/html": [
       "<div>\n",
       "<style scoped>\n",
       "    .dataframe tbody tr th:only-of-type {\n",
       "        vertical-align: middle;\n",
       "    }\n",
       "\n",
       "    .dataframe tbody tr th {\n",
       "        vertical-align: top;\n",
       "    }\n",
       "\n",
       "    .dataframe thead th {\n",
       "        text-align: right;\n",
       "    }\n",
       "</style>\n",
       "<table border=\"1\" class=\"dataframe\">\n",
       "  <thead>\n",
       "    <tr style=\"text-align: right;\">\n",
       "      <th></th>\n",
       "      <th>img_path</th>\n",
       "      <th>label</th>\n",
       "    </tr>\n",
       "  </thead>\n",
       "  <tbody>\n",
       "    <tr>\n",
       "      <th>0</th>\n",
       "      <td>images/image_013852.png</td>\n",
       "      <td>떪</td>\n",
       "    </tr>\n",
       "    <tr>\n",
       "      <th>1</th>\n",
       "      <td>images/image_011511.png</td>\n",
       "      <td>삼</td>\n",
       "    </tr>\n",
       "    <tr>\n",
       "      <th>2</th>\n",
       "      <td>images/image_033794.png</td>\n",
       "      <td>넥타이</td>\n",
       "    </tr>\n",
       "    <tr>\n",
       "      <th>3</th>\n",
       "      <td>images/image_064495.png</td>\n",
       "      <td>뚝</td>\n",
       "    </tr>\n",
       "    <tr>\n",
       "      <th>4</th>\n",
       "      <td>images/image_020766.png</td>\n",
       "      <td>끎</td>\n",
       "    </tr>\n",
       "    <tr>\n",
       "      <th>...</th>\n",
       "      <td>...</td>\n",
       "      <td>...</td>\n",
       "    </tr>\n",
       "    <tr>\n",
       "      <th>42939</th>\n",
       "      <td>images/image_124610.png</td>\n",
       "      <td>홍보흔적</td>\n",
       "    </tr>\n",
       "    <tr>\n",
       "      <th>42940</th>\n",
       "      <td>images/image_124611.png</td>\n",
       "      <td>통야채</td>\n",
       "    </tr>\n",
       "    <tr>\n",
       "      <th>42941</th>\n",
       "      <td>images/image_124613.png</td>\n",
       "      <td>까먹다대다</td>\n",
       "    </tr>\n",
       "    <tr>\n",
       "      <th>42942</th>\n",
       "      <td>images/image_124614.png</td>\n",
       "      <td>조금씩낮다</td>\n",
       "    </tr>\n",
       "    <tr>\n",
       "      <th>42943</th>\n",
       "      <td>images/image_124615.png</td>\n",
       "      <td>용기퓐</td>\n",
       "    </tr>\n",
       "  </tbody>\n",
       "</table>\n",
       "<p>42944 rows × 2 columns</p>\n",
       "</div>"
      ],
      "text/plain": [
       "                      img_path  label\n",
       "0      images/image_013852.png      떪\n",
       "1      images/image_011511.png      삼\n",
       "2      images/image_033794.png    넥타이\n",
       "3      images/image_064495.png      뚝\n",
       "4      images/image_020766.png      끎\n",
       "...                        ...    ...\n",
       "42939  images/image_124610.png   홍보흔적\n",
       "42940  images/image_124611.png    통야채\n",
       "42941  images/image_124613.png  까먹다대다\n",
       "42942  images/image_124614.png  조금씩낮다\n",
       "42943  images/image_124615.png    용기퓐\n",
       "\n",
       "[42944 rows x 2 columns]"
      ]
     },
     "execution_count": 5,
     "metadata": {},
     "output_type": "execute_result"
    }
   ],
   "source": [
    "# 인덱스 초기화\n",
    "df = df.reset_index(drop=True)\n",
    "df"
   ]
  },
  {
   "cell_type": "markdown",
   "id": "a30e50cf",
   "metadata": {},
   "source": [
    "# GaussianNoise"
   ]
  },
  {
   "cell_type": "code",
   "execution_count": 7,
   "id": "5383c734",
   "metadata": {},
   "outputs": [
    {
     "name": "stderr",
     "output_type": "stream",
     "text": [
      "100%|██████████████████████████████████████████████████████████████████████████████| 8000/8000 [00:56<00:00, 140.80it/s]\n"
     ]
    }
   ],
   "source": [
    "for i in tqdm(range(len(df_no))):\n",
    "    \n",
    "    # 파일 불러오기\n",
    "    img = Image.open('/home/cuai5th/CUAI_2022/KWAKsumin/OCR/data_transformed_final/train/' + df_no['img_path'].iloc[i])\n",
    "    \n",
    "    # augmentation\n",
    "    img = GaussianNoise()(img) \n",
    "    \n",
    "    # 파일 저장. 파일명 숫자 200000 ~ 208000-1\n",
    "    file_name = 'image_' + str(i + 200000) + '.png'\n",
    "    img.save('/home/cuai5th/CUAI_2022/KWAKsumin/OCR/data_transformed_final/train1.5/images/' + file_name, 'png')\n",
    "    \n",
    "    # df에 추가\n",
    "    file_path = 'images/' + file_name\n",
    "    df.loc[len(df) + 1] = [file_path, df_no.iloc[i][1]]"
   ]
  },
  {
   "cell_type": "code",
   "execution_count": 8,
   "id": "33397a65",
   "metadata": {
    "scrolled": true
   },
   "outputs": [
    {
     "data": {
      "image/png": "[encoded data removed]",
      "text/plain": [
       "<PIL.PngImagePlugin.PngImageFile image mode=RGB size=160x64>"
      ]
     },
     "execution_count": 8,
     "metadata": {},
     "output_type": "execute_result"
    }
   ],
   "source": [
    "Image.open('/home/cuai5th/CUAI_2022/KWAKsumin/OCR/data_transformed_final/train1.5/images/image_207999.png')"
   ]
  },
  {
   "cell_type": "markdown",
   "id": "e4c78e82",
   "metadata": {},
   "source": [
    "# Contrast"
   ]
  },
  {
   "cell_type": "code",
   "execution_count": 9,
   "id": "f38d4c78",
   "metadata": {},
   "outputs": [
    {
     "name": "stderr",
     "output_type": "stream",
     "text": [
      "100%|██████████████████████████████████████████████████████████████████████████████| 8000/8000 [01:04<00:00, 123.34it/s]\n"
     ]
    }
   ],
   "source": [
    "for i in tqdm(range(len(df_co))):\n",
    "    \n",
    "    # 파일 불러오기\n",
    "    img = Image.open('/home/cuai5th/CUAI_2022/KWAKsumin/OCR/data_transformed_final/train/' + df_co['img_path'].iloc[i])\n",
    "    \n",
    "    # augmentation\n",
    "    img = Contrast()(img, mag=0)  # mag=0일때 가장 덜 적용됨\n",
    "    \n",
    "    # 파일 저장. 파일명 숫자 208000 ~ 216000-1\n",
    "    file_name = 'image_' + str(i + 208000) + '.png'\n",
    "    img.save('/home/cuai5th/CUAI_2022/KWAKsumin/OCR/data_transformed_final/train1.5/images/' + file_name, 'png')\n",
    "    \n",
    "    # df에 추가\n",
    "    file_path = 'images/' + file_name\n",
    "    df.loc[len(df) + 1] = [file_path, df_co.iloc[i][1]]"
   ]
  },
  {
   "cell_type": "code",
   "execution_count": 11,
   "id": "e2a2800f",
   "metadata": {},
   "outputs": [
    {
     "data": {
      "image/png": "[encoded data removed]",
      "text/plain": [
       "<PIL.PngImagePlugin.PngImageFile image mode=RGB size=74x64>"
      ]
     },
     "execution_count": 11,
     "metadata": {},
     "output_type": "execute_result"
    }
   ],
   "source": [
    "Image.open('/home/cuai5th/CUAI_2022/KWAKsumin/OCR/data_transformed_final/train1.5/images/image_215999.png')"
   ]
  },
  {
   "cell_type": "markdown",
   "id": "3a5626d5",
   "metadata": {},
   "source": [
    "# Brightness"
   ]
  },
  {
   "cell_type": "code",
   "execution_count": 12,
   "id": "5e76c85c",
   "metadata": {},
   "outputs": [
    {
     "name": "stderr",
     "output_type": "stream",
     "text": [
      "100%|███████████████████████████████████████████████████████████████████████████████| 8000/8000 [01:33<00:00, 85.37it/s]\n"
     ]
    }
   ],
   "source": [
    "for i in tqdm(range(len(df_br))):\n",
    "    \n",
    "    # 파일 불러오기\n",
    "    img = Image.open('/home/cuai5th/CUAI_2022/KWAKsumin/OCR/data_transformed_final/train/' + df_br['img_path'].iloc[i])\n",
    "    \n",
    "    # augmentation\n",
    "    img = Brightness()(img, mag=1) \n",
    "    \n",
    "    # 파일 저장. 파일명 숫자 216000 ~ 224000-1\n",
    "    file_name = 'image_' + str(i + 216000) + '.png'\n",
    "    img.save('/home/cuai5th/CUAI_2022/KWAKsumin/OCR/data_transformed_final/train1.5/images/' + file_name, 'png')\n",
    "    \n",
    "    # df에 추가\n",
    "    file_path = 'images/' + file_name\n",
    "    df.loc[len(df) + 1] = [file_path, df_br.iloc[i][1]]"
   ]
  },
  {
   "cell_type": "code",
   "execution_count": 13,
   "id": "ffc6f09f",
   "metadata": {},
   "outputs": [
    {
     "data": {
      "image/png": "[encoded data removed]",
      "text/plain": [
       "<PIL.PngImagePlugin.PngImageFile image mode=RGB size=76x64>"
      ]
     },
     "execution_count": 13,
     "metadata": {},
     "output_type": "execute_result"
    }
   ],
   "source": [
    "Image.open('/home/cuai5th/CUAI_2022/KWAKsumin/OCR/data_transformed_final/train1.5/images/image_223999.png')"
   ]
  },
  {
   "cell_type": "markdown",
   "id": "ff6cecb7",
   "metadata": {},
   "source": [
    "# Pixelate"
   ]
  },
  {
   "cell_type": "code",
   "execution_count": 14,
   "id": "e5d6bfcd",
   "metadata": {},
   "outputs": [
    {
     "name": "stderr",
     "output_type": "stream",
     "text": [
      "100%|██████████████████████████████████████████████████████████████████████████████| 8000/8000 [01:02<00:00, 127.92it/s]\n"
     ]
    }
   ],
   "source": [
    "for i in tqdm(range(len(df_pi))):\n",
    "    \n",
    "    # 파일 불러오기\n",
    "    img = Image.open('/home/cuai5th/CUAI_2022/KWAKsumin/OCR/data_transformed_final/train/' + df_pi['img_path'].iloc[i])\n",
    "    \n",
    "    # augmentation\n",
    "    img = Pixelate()(img) \n",
    "    \n",
    "    # 파일 저장. 파일명 숫자 224000 ~ 232000-1\n",
    "    file_name = 'image_' + str(i + 224000) + '.png'\n",
    "    img.save('/home/cuai5th/CUAI_2022/KWAKsumin/OCR/data_transformed_final/train1.5/images/' + file_name, 'png')\n",
    "    \n",
    "    # df에 추가\n",
    "    file_path = 'images/' + file_name\n",
    "    df.loc[len(df) + 1] = [file_path, df_pi.iloc[i][1]]"
   ]
  },
  {
   "cell_type": "code",
   "execution_count": 18,
   "id": "bdd6a985",
   "metadata": {},
   "outputs": [
    {
     "data": {
      "image/png": "[encoded data removed]",
      "text/plain": [
       "<PIL.PngImagePlugin.PngImageFile image mode=RGB size=108x64>"
      ]
     },
     "execution_count": 18,
     "metadata": {},
     "output_type": "execute_result"
    }
   ],
   "source": [
    "Image.open('/home/cuai5th/CUAI_2022/KWAKsumin/OCR/data_transformed_final/train1.5/images/image_230002.png')"
   ]
  },
  {
   "cell_type": "markdown",
   "id": "f4308d90",
   "metadata": {},
   "source": [
    "# GaussianBlur"
   ]
  },
  {
   "cell_type": "code",
   "execution_count": 19,
   "id": "1376a6b5",
   "metadata": {},
   "outputs": [],
   "source": [
    "import cv2\n",
    "import numpy as np\n",
    "import torchvision.transforms as transforms\n",
    "from PIL import Image, ImageOps\n",
    "from skimage.filters import gaussian\n",
    "\n",
    "class GaussianBlur:\n",
    "    def __init__(self, rng=None):\n",
    "        self.rng = np.random.default_rng() if rng is None else rng\n",
    "\n",
    "    def __call__(self, img, mag=-1, prob=1.):\n",
    "        if self.rng.uniform(0, 1) > prob:\n",
    "            return img\n",
    "\n",
    "        w, h = img.size\n",
    "        # kernel = [(31,31)] prev 1 level only\n",
    "        ksize = int(min(w, h) / 2) // 4\n",
    "        ksize = (ksize * 2) + 1\n",
    "        kernel = (ksize, ksize)\n",
    "        sigmas = [.5, 1, 2]\n",
    "        if mag < 0 or mag >= len(sigmas):\n",
    "            index = self.rng.integers(0, len(sigmas))\n",
    "        else:\n",
    "            index = mag\n",
    "\n",
    "        sigma = sigmas[index]\n",
    "        return transforms.GaussianBlur(kernel_size=kernel, sigma=sigma)(img)"
   ]
  },
  {
   "cell_type": "code",
   "execution_count": 20,
   "id": "26c0e0c3",
   "metadata": {},
   "outputs": [
    {
     "name": "stderr",
     "output_type": "stream",
     "text": [
      "100%|███████████████████████████████████████████████████████████████████████████████| 8000/8000 [06:30<00:00, 20.48it/s]\n"
     ]
    }
   ],
   "source": [
    "for i in tqdm(range(len(df_bl))):\n",
    "    \n",
    "    # 파일 불러오기\n",
    "    img = Image.open('/home/cuai5th/CUAI_2022/KWAKsumin/OCR/data_transformed_final/train/' + df_bl['img_path'].iloc[i])\n",
    "    \n",
    "    # augmentation\n",
    "    img = GaussianBlur()(img) \n",
    "    \n",
    "    # 파일 저장. 파일명 숫자 232000 ~ 240000-1\n",
    "    file_name = 'image_' + str(i + 232000) + '.png'\n",
    "    img.save('/home/cuai5th/CUAI_2022/KWAKsumin/OCR/data_transformed_final/train1.5/images/' + file_name, 'png')\n",
    "    \n",
    "    # df에 추가\n",
    "    file_path = 'images/' + file_name\n",
    "    df.loc[len(df) + 1] = [file_path, df_bl.iloc[i][1]]"
   ]
  },
  {
   "cell_type": "code",
   "execution_count": 21,
   "id": "38db2069",
   "metadata": {},
   "outputs": [
    {
     "data": {
      "image/png": "[encoded data removed]",
      "text/plain": [
       "<PIL.PngImagePlugin.PngImageFile image mode=RGB size=193x64>"
      ]
     },
     "execution_count": 21,
     "metadata": {},
     "output_type": "execute_result"
    }
   ],
   "source": [
    "Image.open('/home/cuai5th/CUAI_2022/KWAKsumin/OCR/data_transformed_final/train1.5/images/image_239999.png')"
   ]
  },
  {
   "cell_type": "code",
   "execution_count": 25,
   "id": "1cbf1c62",
   "metadata": {},
   "outputs": [
    {
     "name": "stdout",
     "output_type": "stream",
     "text": [
      "<class 'pandas.core.frame.DataFrame'>\n",
      "Int64Index: 82944 entries, 0 to 82944\n",
      "Data columns (total 2 columns):\n",
      " #   Column    Non-Null Count  Dtype \n",
      "---  ------    --------------  ----- \n",
      " 0   img_path  82944 non-null  object\n",
      " 1   label     82944 non-null  object\n",
      "dtypes: object(2)\n",
      "memory usage: 1.9+ MB\n"
     ]
    }
   ],
   "source": [
    "df.info()"
   ]
  },
  {
   "cell_type": "code",
   "execution_count": 26,
   "id": "98b087c9",
   "metadata": {},
   "outputs": [
    {
     "data": {
      "text/html": [
       "<div>\n",
       "<style scoped>\n",
       "    .dataframe tbody tr th:only-of-type {\n",
       "        vertical-align: middle;\n",
       "    }\n",
       "\n",
       "    .dataframe tbody tr th {\n",
       "        vertical-align: top;\n",
       "    }\n",
       "\n",
       "    .dataframe thead th {\n",
       "        text-align: right;\n",
       "    }\n",
       "</style>\n",
       "<table border=\"1\" class=\"dataframe\">\n",
       "  <thead>\n",
       "    <tr style=\"text-align: right;\">\n",
       "      <th></th>\n",
       "      <th>img_path</th>\n",
       "      <th>label</th>\n",
       "    </tr>\n",
       "  </thead>\n",
       "  <tbody>\n",
       "    <tr>\n",
       "      <th>0</th>\n",
       "      <td>images/image_013852.png</td>\n",
       "      <td>떪</td>\n",
       "    </tr>\n",
       "    <tr>\n",
       "      <th>1</th>\n",
       "      <td>images/image_011511.png</td>\n",
       "      <td>삼</td>\n",
       "    </tr>\n",
       "    <tr>\n",
       "      <th>2</th>\n",
       "      <td>images/image_033794.png</td>\n",
       "      <td>넥타이</td>\n",
       "    </tr>\n",
       "    <tr>\n",
       "      <th>3</th>\n",
       "      <td>images/image_064495.png</td>\n",
       "      <td>뚝</td>\n",
       "    </tr>\n",
       "    <tr>\n",
       "      <th>4</th>\n",
       "      <td>images/image_020766.png</td>\n",
       "      <td>끎</td>\n",
       "    </tr>\n",
       "    <tr>\n",
       "      <th>...</th>\n",
       "      <td>...</td>\n",
       "      <td>...</td>\n",
       "    </tr>\n",
       "    <tr>\n",
       "      <th>51403</th>\n",
       "      <td>images/image_032529.png</td>\n",
       "      <td>멂</td>\n",
       "    </tr>\n",
       "    <tr>\n",
       "      <th>38448</th>\n",
       "      <td>images/image_025587.png</td>\n",
       "      <td>음성</td>\n",
       "    </tr>\n",
       "    <tr>\n",
       "      <th>30853</th>\n",
       "      <td>images/image_059961.png</td>\n",
       "      <td>가다</td>\n",
       "    </tr>\n",
       "    <tr>\n",
       "      <th>7987</th>\n",
       "      <td>images/image_058863.png</td>\n",
       "      <td>뜰</td>\n",
       "    </tr>\n",
       "    <tr>\n",
       "      <th>79178</th>\n",
       "      <td>images/image_120850.png</td>\n",
       "      <td>계산하다단</td>\n",
       "    </tr>\n",
       "  </tbody>\n",
       "</table>\n",
       "<p>122944 rows × 2 columns</p>\n",
       "</div>"
      ],
      "text/plain": [
       "                      img_path  label\n",
       "0      images/image_013852.png      떪\n",
       "1      images/image_011511.png      삼\n",
       "2      images/image_033794.png    넥타이\n",
       "3      images/image_064495.png      뚝\n",
       "4      images/image_020766.png      끎\n",
       "...                        ...    ...\n",
       "51403  images/image_032529.png      멂\n",
       "38448  images/image_025587.png     음성\n",
       "30853  images/image_059961.png     가다\n",
       "7987   images/image_058863.png      뜰\n",
       "79178  images/image_120850.png  계산하다단\n",
       "\n",
       "[122944 rows x 2 columns]"
      ]
     },
     "execution_count": 26,
     "metadata": {},
     "output_type": "execute_result"
    }
   ],
   "source": [
    "# df 모두 합치기\n",
    "df = pd.concat([df, df_no, df_br, df_bl, df_co, df_pi])\n",
    "df"
   ]
  },
  {
   "cell_type": "code",
   "execution_count": 27,
   "id": "63ef2e22",
   "metadata": {},
   "outputs": [
    {
     "data": {
      "text/html": [
       "<div>\n",
       "<style scoped>\n",
       "    .dataframe tbody tr th:only-of-type {\n",
       "        vertical-align: middle;\n",
       "    }\n",
       "\n",
       "    .dataframe tbody tr th {\n",
       "        vertical-align: top;\n",
       "    }\n",
       "\n",
       "    .dataframe thead th {\n",
       "        text-align: right;\n",
       "    }\n",
       "</style>\n",
       "<table border=\"1\" class=\"dataframe\">\n",
       "  <thead>\n",
       "    <tr style=\"text-align: right;\">\n",
       "      <th></th>\n",
       "      <th>img_path</th>\n",
       "      <th>label</th>\n",
       "    </tr>\n",
       "  </thead>\n",
       "  <tbody>\n",
       "    <tr>\n",
       "      <th>0</th>\n",
       "      <td>images/image_235370.png</td>\n",
       "      <td>그이</td>\n",
       "    </tr>\n",
       "    <tr>\n",
       "      <th>1</th>\n",
       "      <td>images/image_071246.png</td>\n",
       "      <td>퇴직금</td>\n",
       "    </tr>\n",
       "    <tr>\n",
       "      <th>2</th>\n",
       "      <td>images/image_044349.png</td>\n",
       "      <td>느낌</td>\n",
       "    </tr>\n",
       "    <tr>\n",
       "      <th>3</th>\n",
       "      <td>images/image_022792.png</td>\n",
       "      <td>향상</td>\n",
       "    </tr>\n",
       "    <tr>\n",
       "      <th>4</th>\n",
       "      <td>images/image_062869.png</td>\n",
       "      <td>생</td>\n",
       "    </tr>\n",
       "    <tr>\n",
       "      <th>...</th>\n",
       "      <td>...</td>\n",
       "      <td>...</td>\n",
       "    </tr>\n",
       "    <tr>\n",
       "      <th>122939</th>\n",
       "      <td>images/image_106916.png</td>\n",
       "      <td>차뜻하다</td>\n",
       "    </tr>\n",
       "    <tr>\n",
       "      <th>122940</th>\n",
       "      <td>images/image_030653.png</td>\n",
       "      <td>서서히</td>\n",
       "    </tr>\n",
       "    <tr>\n",
       "      <th>122941</th>\n",
       "      <td>images/image_122567.png</td>\n",
       "      <td>책임자고모부</td>\n",
       "    </tr>\n",
       "    <tr>\n",
       "      <th>122942</th>\n",
       "      <td>images/image_102778.png</td>\n",
       "      <td>활발히덮이다</td>\n",
       "    </tr>\n",
       "    <tr>\n",
       "      <th>122943</th>\n",
       "      <td>images/image_051507.png</td>\n",
       "      <td>부지런하다</td>\n",
       "    </tr>\n",
       "  </tbody>\n",
       "</table>\n",
       "<p>122944 rows × 2 columns</p>\n",
       "</div>"
      ],
      "text/plain": [
       "                       img_path   label\n",
       "0       images/image_235370.png      그이\n",
       "1       images/image_071246.png     퇴직금\n",
       "2       images/image_044349.png      느낌\n",
       "3       images/image_022792.png      향상\n",
       "4       images/image_062869.png       생\n",
       "...                         ...     ...\n",
       "122939  images/image_106916.png    차뜻하다\n",
       "122940  images/image_030653.png     서서히\n",
       "122941  images/image_122567.png  책임자고모부\n",
       "122942  images/image_102778.png  활발히덮이다\n",
       "122943  images/image_051507.png   부지런하다\n",
       "\n",
       "[122944 rows x 2 columns]"
      ]
     },
     "execution_count": 27,
     "metadata": {},
     "output_type": "execute_result"
    }
   ],
   "source": [
    "# 순서 섞기\n",
    "df = df.sample(frac=1).reset_index(drop=True)\n",
    "df"
   ]
  },
  {
   "cell_type": "code",
   "execution_count": 28,
   "id": "69882b13",
   "metadata": {},
   "outputs": [],
   "source": [
    "# df를 text 파일로 저장\n",
    "df.to_csv('gt15.txt',header=None,index=False,sep='\\t') ## 구분자를 탭으로 하여 저장. 인덱스칼럼은 저장 안함."
   ]
  },
  {
   "cell_type": "code",
   "execution_count": 31,
   "id": "e4a84e50",
   "metadata": {},
   "outputs": [
    {
     "name": "stdout",
     "output_type": "stream",
     "text": [
      "/home/cuai5th/CUAI_2022/KWAKsumin/OCR\n"
     ]
    }
   ],
   "source": [
    "%cd /home/cuai5th/CUAI_2022/KWAKsumin/OCR"
   ]
  },
  {
   "cell_type": "code",
   "execution_count": 32,
   "id": "14289897",
   "metadata": {},
   "outputs": [
    {
     "name": "stdout",
     "output_type": "stream",
     "text": [
      "Written 1000 / 122944\n",
      "Written 2000 / 122944\n",
      "Written 3000 / 122944\n",
      "Written 4000 / 122944\n",
      "Written 5000 / 122944\n",
      "Written 6000 / 122944\n",
      "Written 7000 / 122944\n",
      "Written 8000 / 122944\n",
      "Written 9000 / 122944\n",
      "Written 10000 / 122944\n",
      "Written 11000 / 122944\n",
      "Written 12000 / 122944\n",
      "Written 13000 / 122944\n",
      "Written 14000 / 122944\n",
      "Written 15000 / 122944\n",
      "Written 16000 / 122944\n",
      "Written 17000 / 122944\n",
      "Written 18000 / 122944\n",
      "Written 19000 / 122944\n",
      "Written 20000 / 122944\n",
      "Written 21000 / 122944\n",
      "Written 22000 / 122944\n",
      "Written 23000 / 122944\n",
      "Written 24000 / 122944\n",
      "Written 25000 / 122944\n",
      "Written 26000 / 122944\n",
      "Written 27000 / 122944\n",
      "Written 28000 / 122944\n",
      "Written 29000 / 122944\n",
      "Written 30000 / 122944\n",
      "Written 31000 / 122944\n",
      "Written 32000 / 122944\n",
      "Written 33000 / 122944\n",
      "Written 34000 / 122944\n",
      "Written 35000 / 122944\n",
      "Written 36000 / 122944\n",
      "Written 37000 / 122944\n",
      "Written 38000 / 122944\n",
      "Written 39000 / 122944\n",
      "Written 40000 / 122944\n",
      "Written 41000 / 122944\n",
      "Written 42000 / 122944\n",
      "Written 43000 / 122944\n",
      "Written 44000 / 122944\n",
      "Written 45000 / 122944\n",
      "Written 46000 / 122944\n",
      "Written 47000 / 122944\n",
      "Written 48000 / 122944\n",
      "Written 49000 / 122944\n",
      "Written 50000 / 122944\n",
      "Written 51000 / 122944\n",
      "Written 52000 / 122944\n",
      "Written 53000 / 122944\n",
      "Written 54000 / 122944\n",
      "Written 55000 / 122944\n",
      "Written 56000 / 122944\n",
      "Written 57000 / 122944\n",
      "Written 58000 / 122944\n",
      "Written 59000 / 122944\n",
      "Written 60000 / 122944\n",
      "Written 61000 / 122944\n",
      "Written 62000 / 122944\n",
      "Written 63000 / 122944\n",
      "Written 64000 / 122944\n",
      "Written 65000 / 122944\n",
      "Written 66000 / 122944\n",
      "Written 67000 / 122944\n",
      "Written 68000 / 122944\n",
      "Written 69000 / 122944\n",
      "Written 70000 / 122944\n",
      "Written 71000 / 122944\n",
      "Written 72000 / 122944\n",
      "Written 73000 / 122944\n",
      "Written 74000 / 122944\n",
      "Written 75000 / 122944\n",
      "Written 76000 / 122944\n",
      "Written 77000 / 122944\n",
      "Written 78000 / 122944\n",
      "Written 79000 / 122944\n",
      "Written 80000 / 122944\n",
      "Written 81000 / 122944\n",
      "Written 82000 / 122944\n",
      "Written 83000 / 122944\n",
      "Written 84000 / 122944\n",
      "Written 85000 / 122944\n",
      "Written 86000 / 122944\n",
      "Written 87000 / 122944\n",
      "Written 88000 / 122944\n",
      "Written 89000 / 122944\n",
      "Written 90000 / 122944\n",
      "Written 91000 / 122944\n",
      "Written 92000 / 122944\n",
      "Written 93000 / 122944\n",
      "Written 94000 / 122944\n",
      "Written 95000 / 122944\n",
      "Written 96000 / 122944\n",
      "Written 97000 / 122944\n",
      "Written 98000 / 122944\n",
      "Written 99000 / 122944\n",
      "Written 100000 / 122944\n",
      "Written 101000 / 122944\n",
      "Written 102000 / 122944\n",
      "Written 103000 / 122944\n",
      "Written 104000 / 122944\n",
      "Written 105000 / 122944\n",
      "Written 106000 / 122944\n",
      "Written 107000 / 122944\n",
      "Written 108000 / 122944\n",
      "Written 109000 / 122944\n",
      "Written 110000 / 122944\n",
      "Written 111000 / 122944\n",
      "Written 112000 / 122944\n",
      "Written 113000 / 122944\n",
      "Written 114000 / 122944\n",
      "Written 115000 / 122944\n",
      "Written 116000 / 122944\n",
      "Written 117000 / 122944\n",
      "Written 118000 / 122944\n",
      "Written 119000 / 122944\n",
      "Written 120000 / 122944\n",
      "Written 121000 / 122944\n",
      "Written 122000 / 122944\n",
      "Created dataset with 122944 samples\n"
     ]
    }
   ],
   "source": [
    "!python3 deep/create_lmdb_dataset.py \\\n",
    "        --inputPath data_transformed_final/train1.5 \\\n",
    "        --gtFile data_transformed_final/train1.5/gt.txt \\\n",
    "        --outputPath deep/data_ocr/training_1.5/kordata"
   ]
  },
  {
   "cell_type": "code",
   "execution_count": 34,
   "id": "db7ebc2c",
   "metadata": {},
   "outputs": [
    {
     "name": "stdout",
     "output_type": "stream",
     "text": [
      "Written 1000 / 18560\n",
      "Written 2000 / 18560\n",
      "Written 3000 / 18560\n",
      "Written 4000 / 18560\n",
      "Written 5000 / 18560\n",
      "Written 6000 / 18560\n",
      "Written 7000 / 18560\n",
      "Written 8000 / 18560\n",
      "Written 9000 / 18560\n",
      "Written 10000 / 18560\n",
      "Written 11000 / 18560\n",
      "Written 12000 / 18560\n",
      "Written 13000 / 18560\n",
      "Written 14000 / 18560\n",
      "Written 15000 / 18560\n",
      "Written 16000 / 18560\n",
      "Written 17000 / 18560\n",
      "Written 18000 / 18560\n",
      "Created dataset with 18560 samples\n"
     ]
    }
   ],
   "source": [
    "!python3 deep/create_lmdb_dataset.py \\\n",
    "        --inputPath data_transformed_final/valid \\\n",
    "        --gtFile data_transformed_final/valid/gt.txt \\\n",
    "        --outputPath deep/data_ocr/valid_aug/kordata"
   ]
  },
  {
   "cell_type": "code",
   "execution_count": null,
   "id": "acaff245",
   "metadata": {},
   "outputs": [],
   "source": []
  },
  {
   "cell_type": "code",
   "execution_count": null,
   "id": "083e1ffb",
   "metadata": {},
   "outputs": [],
   "source": []
  },
  {
   "cell_type": "code",
   "execution_count": null,
   "id": "76dbf716",
   "metadata": {},
   "outputs": [],
   "source": []
  },
  {
   "cell_type": "code",
   "execution_count": null,
   "id": "94bab3bd",
   "metadata": {},
   "outputs": [],
   "source": []
  },
  {
   "cell_type": "code",
   "execution_count": null,
   "id": "4ebac185",
   "metadata": {},
   "outputs": [],
   "source": []
  },
  {
   "cell_type": "code",
   "execution_count": null,
   "id": "5560ed9c",
   "metadata": {},
   "outputs": [],
   "source": []
  },
  {
   "cell_type": "code",
   "execution_count": null,
   "id": "8b03ebc1",
   "metadata": {},
   "outputs": [],
   "source": []
  },
  {
   "cell_type": "code",
   "execution_count": null,
   "id": "d2c49afd",
   "metadata": {},
   "outputs": [],
   "source": []
  },
  {
   "cell_type": "code",
   "execution_count": null,
   "id": "27bff745",
   "metadata": {},
   "outputs": [],
   "source": []
  }
 ],
 "metadata": {
  "kernelspec": {
   "display_name": "Python 3 (ipykernel)",
   "language": "python",
   "name": "python3"
  },
  "language_info": {
   "codemirror_mode": {
    "name": "ipython",
    "version": 3
   },
   "file_extension": ".py",
   "mimetype": "text/x-python",
   "name": "python",
   "nbconvert_exporter": "python",
   "pygments_lexer": "ipython3",
   "version": "3.9.12"
  }
 },
 "nbformat": 4,
 "nbformat_minor": 5
}
